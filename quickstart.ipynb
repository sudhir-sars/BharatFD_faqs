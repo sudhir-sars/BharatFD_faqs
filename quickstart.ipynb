{
  "cells": [
    {
      "cell_type": "code",
      "source": [
        "!pip install -q turboml-installer\n",
        "import turboml_installer ; turboml_installer.install_on_colab()"
      ],
      "execution_count": 1,
      "metadata": {
        "colab": {
          "base_uri": "https://localhost:8080/"
        },
        "id": "8xrdtRrc3FVl",
        "outputId": "548ecbc2-b665-470b-a85d-2bf627157d46"
      },
      "outputs": [
        {
          "output_type": "stream",
          "name": "stdout",
          "text": [
            "\u001b[?25l   \u001b[90m━━━━━━━━━━━━━━━━━━━━━━━━━━━━━━━━━━━━━━━━\u001b[0m \u001b[32m0.0/1.6 MB\u001b[0m \u001b[31m?\u001b[0m eta \u001b[36m-:--:--\u001b[0m\r\u001b[2K   \u001b[91m━━━━━━━━━━━━━━━━━━━━━━━━━━━━━━━━━━━━━━━\u001b[0m\u001b[91m╸\u001b[0m \u001b[32m1.6/1.6 MB\u001b[0m \u001b[31m72.5 MB/s\u001b[0m eta \u001b[36m0:00:01\u001b[0m\r\u001b[2K   \u001b[90m━━━━━━━━━━━━━━━━━━━━━━━━━━━━━━━━━━━━━━━━\u001b[0m \u001b[32m1.6/1.6 MB\u001b[0m \u001b[31m38.4 MB/s\u001b[0m eta \u001b[36m0:00:00\u001b[0m\n",
            "\u001b[?25h📦 Installing...\n",
            "🩹 Patching environment...\n",
            "⏲ Done in 0:02:13\n",
            "🔁 Restarting kernel...\n"
          ]
        }
      ],
      "id": "8xrdtRrc3FVl"
    },
    {
      "cell_type": "markdown",
      "source": [
        "The kernel should now be restarted with TurboML's SDK installed."
      ],
      "metadata": {
        "id": "07hLQDtI3FVo"
      },
      "id": "07hLQDtI3FVo"
    },
    {
      "cell_type": "markdown",
      "source": [
        "## Login to your TurboML instance\n",
        "\n",
        "Note that you can copy and replace this snippet with one from your TurboML homepage."
      ],
      "metadata": {
        "id": "wOA-uVLM3FVq"
      },
      "id": "wOA-uVLM3FVq"
    },
    {
      "cell_type": "code",
      "source": [
        "import turboml as tb\n",
        "tb.init(backend_url=\"https://organic-turkey.api.turboml.online\", api_key=\"tb_EVuVL2gdjb362UZiaJbgeuQtMBqwTqf0_299d9cac\")"
      ],
      "execution_count": 103,
      "id": "1",
      "metadata": {
        "id": "1"
      },
      "outputs": []
    },
    {
      "cell_type": "markdown",
      "source": [
        "## Inspecting Data\n",
        "\n",
        "TurboML is built for real-time machine learning, and as such, deals with streams of data. This can be achieved by using connectors to continuously pull data from your data source (like S3  or postgres), or use push-based approaches using REST API or Client SDKs.\n",
        "\n",
        "For the purpose of this tutorial, we can use simulate real-time data generation, with a batch-like setting using pandas dataframes. Let's first load some pandas dataframes. In this example, we're using a credit card fraud detection dataset."
      ],
      "id": "2",
      "metadata": {
        "id": "2"
      }
    },
    {
      "cell_type": "code",
      "source": [
        "import pandas as pd\n",
        "import numpy as np"
      ],
      "metadata": {
        "id": "S5ZdXQre4bpx"
      },
      "id": "S5ZdXQre4bpx",
      "execution_count": 3,
      "outputs": []
    },
    {
      "cell_type": "code",
      "source": [
        "df = pd.read_csv(\"/content/alzheimers_prediction_dataset.csv\")"
      ],
      "metadata": {
        "id": "LxlJKUgK4wTn"
      },
      "id": "LxlJKUgK4wTn",
      "execution_count": 4,
      "outputs": []
    },
    {
      "cell_type": "code",
      "source": [
        "df.columns"
      ],
      "metadata": {
        "colab": {
          "base_uri": "https://localhost:8080/"
        },
        "id": "YuAVAB1h45id",
        "outputId": "e32b1dfc-1e24-4ca2-8ab2-1cabbfeda602"
      },
      "id": "YuAVAB1h45id",
      "execution_count": 5,
      "outputs": [
        {
          "output_type": "execute_result",
          "data": {
            "text/plain": [
              "Index(['Country', 'Age', 'Gender', 'Education Level', 'BMI',\n",
              "       'Physical Activity Level', 'Smoking Status', 'Alcohol Consumption',\n",
              "       'Diabetes', 'Hypertension', 'Cholesterol Level',\n",
              "       'Family History of Alzheimers', 'Cognitive Test Score',\n",
              "       'Depression Level', 'Sleep Quality', 'Dietary Habits',\n",
              "       'Air Pollution Exposure', 'Employment Status', 'Marital Status',\n",
              "       'Genetic Risk Factor', 'Social Engagement Level', 'Income Level',\n",
              "       'Stress Levels', 'Urban vs Rural Living', 'Alzheimers Diagnosis'],\n",
              "      dtype='object')"
            ]
          },
          "metadata": {},
          "execution_count": 5
        }
      ]
    },
    {
      "cell_type": "code",
      "source": [
        "# Split into features and labels\n",
        "features_df = df.drop(columns=['Alzheimers Diagnosis'])  # Exclude the target column\n",
        "labels_df = df[['Alzheimers Diagnosis']]  # Only the target column\n"
      ],
      "metadata": {
        "id": "nAHFlVx445fW"
      },
      "id": "nAHFlVx445fW",
      "execution_count": 6,
      "outputs": []
    },
    {
      "cell_type": "code",
      "source": [
        "\n",
        "# Rename for consistency\n",
        "transactions_df = features_df\n",
        "labels_df = labels_df.rename(columns={'Alzheimers Diagnosis': 'label'})\n",
        "\n"
      ],
      "metadata": {
        "id": "boBXnNmn45cO"
      },
      "id": "boBXnNmn45cO",
      "execution_count": 7,
      "outputs": []
    },
    {
      "cell_type": "code",
      "source": [
        "transactions_df = transactions_df.reset_index()\n",
        "labels_df = labels_df.reset_index()"
      ],
      "metadata": {
        "id": "75z2xECe56Cn"
      },
      "id": "75z2xECe56Cn",
      "execution_count": 13,
      "outputs": []
    },
    {
      "cell_type": "code",
      "source": [
        "transactions_df.head()"
      ],
      "metadata": {
        "colab": {
          "base_uri": "https://localhost:8080/",
          "height": 325
        },
        "id": "drSn1d2g5S4J",
        "outputId": "3e04bb03-e375-49d6-abc2-b962798a2411"
      },
      "id": "drSn1d2g5S4J",
      "execution_count": 14,
      "outputs": [
        {
          "output_type": "execute_result",
          "data": {
            "text/plain": [
              "   index       Country  Age  Gender  Education Level   BMI  \\\n",
              "0      0         Spain   90    Male                1  33.0   \n",
              "1      1     Argentina   72    Male                7  29.9   \n",
              "2      2  South Africa   86  Female               19  22.9   \n",
              "3      3         China   53    Male               17  31.2   \n",
              "4      4        Sweden   58  Female                3  30.0   \n",
              "\n",
              "  Physical Activity Level Smoking Status Alcohol Consumption Diabetes  ...  \\\n",
              "0                  Medium          Never        Occasionally       No  ...   \n",
              "1                  Medium         Former               Never       No  ...   \n",
              "2                    High        Current        Occasionally       No  ...   \n",
              "3                     Low          Never           Regularly      Yes  ...   \n",
              "4                    High         Former               Never      Yes  ...   \n",
              "\n",
              "  Sleep Quality Dietary Habits Air Pollution Exposure  Employment Status  \\\n",
              "0          Poor        Healthy                   High            Retired   \n",
              "1          Good        Healthy                 Medium         Unemployed   \n",
              "2          Good        Average                 Medium           Employed   \n",
              "3       Average        Healthy                 Medium            Retired   \n",
              "4          Poor      Unhealthy                   High           Employed   \n",
              "\n",
              "  Marital Status Genetic Risk Factor Social Engagement Level Income Level  \\\n",
              "0         Single                  No                     Low       Medium   \n",
              "1        Widowed                  No                    High          Low   \n",
              "2         Single                  No                     Low       Medium   \n",
              "3         Single                  No                    High       Medium   \n",
              "4        Married                  No                     Low       Medium   \n",
              "\n",
              "  Stress Levels Urban vs Rural Living  \n",
              "0          High                 Urban  \n",
              "1          High                 Urban  \n",
              "2          High                 Rural  \n",
              "3           Low                 Rural  \n",
              "4          High                 Rural  \n",
              "\n",
              "[5 rows x 25 columns]"
            ],
            "text/html": [
              "\n",
              "  <div id=\"df-d8b916cc-a8ea-4569-8315-3c192f4ec808\" class=\"colab-df-container\">\n",
              "    <div>\n",
              "<style scoped>\n",
              "    .dataframe tbody tr th:only-of-type {\n",
              "        vertical-align: middle;\n",
              "    }\n",
              "\n",
              "    .dataframe tbody tr th {\n",
              "        vertical-align: top;\n",
              "    }\n",
              "\n",
              "    .dataframe thead th {\n",
              "        text-align: right;\n",
              "    }\n",
              "</style>\n",
              "<table border=\"1\" class=\"dataframe\">\n",
              "  <thead>\n",
              "    <tr style=\"text-align: right;\">\n",
              "      <th></th>\n",
              "      <th>index</th>\n",
              "      <th>Country</th>\n",
              "      <th>Age</th>\n",
              "      <th>Gender</th>\n",
              "      <th>Education Level</th>\n",
              "      <th>BMI</th>\n",
              "      <th>Physical Activity Level</th>\n",
              "      <th>Smoking Status</th>\n",
              "      <th>Alcohol Consumption</th>\n",
              "      <th>Diabetes</th>\n",
              "      <th>...</th>\n",
              "      <th>Sleep Quality</th>\n",
              "      <th>Dietary Habits</th>\n",
              "      <th>Air Pollution Exposure</th>\n",
              "      <th>Employment Status</th>\n",
              "      <th>Marital Status</th>\n",
              "      <th>Genetic Risk Factor</th>\n",
              "      <th>Social Engagement Level</th>\n",
              "      <th>Income Level</th>\n",
              "      <th>Stress Levels</th>\n",
              "      <th>Urban vs Rural Living</th>\n",
              "    </tr>\n",
              "  </thead>\n",
              "  <tbody>\n",
              "    <tr>\n",
              "      <th>0</th>\n",
              "      <td>0</td>\n",
              "      <td>Spain</td>\n",
              "      <td>90</td>\n",
              "      <td>Male</td>\n",
              "      <td>1</td>\n",
              "      <td>33.0</td>\n",
              "      <td>Medium</td>\n",
              "      <td>Never</td>\n",
              "      <td>Occasionally</td>\n",
              "      <td>No</td>\n",
              "      <td>...</td>\n",
              "      <td>Poor</td>\n",
              "      <td>Healthy</td>\n",
              "      <td>High</td>\n",
              "      <td>Retired</td>\n",
              "      <td>Single</td>\n",
              "      <td>No</td>\n",
              "      <td>Low</td>\n",
              "      <td>Medium</td>\n",
              "      <td>High</td>\n",
              "      <td>Urban</td>\n",
              "    </tr>\n",
              "    <tr>\n",
              "      <th>1</th>\n",
              "      <td>1</td>\n",
              "      <td>Argentina</td>\n",
              "      <td>72</td>\n",
              "      <td>Male</td>\n",
              "      <td>7</td>\n",
              "      <td>29.9</td>\n",
              "      <td>Medium</td>\n",
              "      <td>Former</td>\n",
              "      <td>Never</td>\n",
              "      <td>No</td>\n",
              "      <td>...</td>\n",
              "      <td>Good</td>\n",
              "      <td>Healthy</td>\n",
              "      <td>Medium</td>\n",
              "      <td>Unemployed</td>\n",
              "      <td>Widowed</td>\n",
              "      <td>No</td>\n",
              "      <td>High</td>\n",
              "      <td>Low</td>\n",
              "      <td>High</td>\n",
              "      <td>Urban</td>\n",
              "    </tr>\n",
              "    <tr>\n",
              "      <th>2</th>\n",
              "      <td>2</td>\n",
              "      <td>South Africa</td>\n",
              "      <td>86</td>\n",
              "      <td>Female</td>\n",
              "      <td>19</td>\n",
              "      <td>22.9</td>\n",
              "      <td>High</td>\n",
              "      <td>Current</td>\n",
              "      <td>Occasionally</td>\n",
              "      <td>No</td>\n",
              "      <td>...</td>\n",
              "      <td>Good</td>\n",
              "      <td>Average</td>\n",
              "      <td>Medium</td>\n",
              "      <td>Employed</td>\n",
              "      <td>Single</td>\n",
              "      <td>No</td>\n",
              "      <td>Low</td>\n",
              "      <td>Medium</td>\n",
              "      <td>High</td>\n",
              "      <td>Rural</td>\n",
              "    </tr>\n",
              "    <tr>\n",
              "      <th>3</th>\n",
              "      <td>3</td>\n",
              "      <td>China</td>\n",
              "      <td>53</td>\n",
              "      <td>Male</td>\n",
              "      <td>17</td>\n",
              "      <td>31.2</td>\n",
              "      <td>Low</td>\n",
              "      <td>Never</td>\n",
              "      <td>Regularly</td>\n",
              "      <td>Yes</td>\n",
              "      <td>...</td>\n",
              "      <td>Average</td>\n",
              "      <td>Healthy</td>\n",
              "      <td>Medium</td>\n",
              "      <td>Retired</td>\n",
              "      <td>Single</td>\n",
              "      <td>No</td>\n",
              "      <td>High</td>\n",
              "      <td>Medium</td>\n",
              "      <td>Low</td>\n",
              "      <td>Rural</td>\n",
              "    </tr>\n",
              "    <tr>\n",
              "      <th>4</th>\n",
              "      <td>4</td>\n",
              "      <td>Sweden</td>\n",
              "      <td>58</td>\n",
              "      <td>Female</td>\n",
              "      <td>3</td>\n",
              "      <td>30.0</td>\n",
              "      <td>High</td>\n",
              "      <td>Former</td>\n",
              "      <td>Never</td>\n",
              "      <td>Yes</td>\n",
              "      <td>...</td>\n",
              "      <td>Poor</td>\n",
              "      <td>Unhealthy</td>\n",
              "      <td>High</td>\n",
              "      <td>Employed</td>\n",
              "      <td>Married</td>\n",
              "      <td>No</td>\n",
              "      <td>Low</td>\n",
              "      <td>Medium</td>\n",
              "      <td>High</td>\n",
              "      <td>Rural</td>\n",
              "    </tr>\n",
              "  </tbody>\n",
              "</table>\n",
              "<p>5 rows × 25 columns</p>\n",
              "</div>\n",
              "    <div class=\"colab-df-buttons\">\n",
              "\n",
              "  <div class=\"colab-df-container\">\n",
              "    <button class=\"colab-df-convert\" onclick=\"convertToInteractive('df-d8b916cc-a8ea-4569-8315-3c192f4ec808')\"\n",
              "            title=\"Convert this dataframe to an interactive table.\"\n",
              "            style=\"display:none;\">\n",
              "\n",
              "  <svg xmlns=\"http://www.w3.org/2000/svg\" height=\"24px\" viewBox=\"0 -960 960 960\">\n",
              "    <path d=\"M120-120v-720h720v720H120Zm60-500h600v-160H180v160Zm220 220h160v-160H400v160Zm0 220h160v-160H400v160ZM180-400h160v-160H180v160Zm440 0h160v-160H620v160ZM180-180h160v-160H180v160Zm440 0h160v-160H620v160Z\"/>\n",
              "  </svg>\n",
              "    </button>\n",
              "\n",
              "  <style>\n",
              "    .colab-df-container {\n",
              "      display:flex;\n",
              "      gap: 12px;\n",
              "    }\n",
              "\n",
              "    .colab-df-convert {\n",
              "      background-color: #E8F0FE;\n",
              "      border: none;\n",
              "      border-radius: 50%;\n",
              "      cursor: pointer;\n",
              "      display: none;\n",
              "      fill: #1967D2;\n",
              "      height: 32px;\n",
              "      padding: 0 0 0 0;\n",
              "      width: 32px;\n",
              "    }\n",
              "\n",
              "    .colab-df-convert:hover {\n",
              "      background-color: #E2EBFA;\n",
              "      box-shadow: 0px 1px 2px rgba(60, 64, 67, 0.3), 0px 1px 3px 1px rgba(60, 64, 67, 0.15);\n",
              "      fill: #174EA6;\n",
              "    }\n",
              "\n",
              "    .colab-df-buttons div {\n",
              "      margin-bottom: 4px;\n",
              "    }\n",
              "\n",
              "    [theme=dark] .colab-df-convert {\n",
              "      background-color: #3B4455;\n",
              "      fill: #D2E3FC;\n",
              "    }\n",
              "\n",
              "    [theme=dark] .colab-df-convert:hover {\n",
              "      background-color: #434B5C;\n",
              "      box-shadow: 0px 1px 3px 1px rgba(0, 0, 0, 0.15);\n",
              "      filter: drop-shadow(0px 1px 2px rgba(0, 0, 0, 0.3));\n",
              "      fill: #FFFFFF;\n",
              "    }\n",
              "  </style>\n",
              "\n",
              "    <script>\n",
              "      const buttonEl =\n",
              "        document.querySelector('#df-d8b916cc-a8ea-4569-8315-3c192f4ec808 button.colab-df-convert');\n",
              "      buttonEl.style.display =\n",
              "        google.colab.kernel.accessAllowed ? 'block' : 'none';\n",
              "\n",
              "      async function convertToInteractive(key) {\n",
              "        const element = document.querySelector('#df-d8b916cc-a8ea-4569-8315-3c192f4ec808');\n",
              "        const dataTable =\n",
              "          await google.colab.kernel.invokeFunction('convertToInteractive',\n",
              "                                                    [key], {});\n",
              "        if (!dataTable) return;\n",
              "\n",
              "        const docLinkHtml = 'Like what you see? Visit the ' +\n",
              "          '<a target=\"_blank\" href=https://colab.research.google.com/notebooks/data_table.ipynb>data table notebook</a>'\n",
              "          + ' to learn more about interactive tables.';\n",
              "        element.innerHTML = '';\n",
              "        dataTable['output_type'] = 'display_data';\n",
              "        await google.colab.output.renderOutput(dataTable, element);\n",
              "        const docLink = document.createElement('div');\n",
              "        docLink.innerHTML = docLinkHtml;\n",
              "        element.appendChild(docLink);\n",
              "      }\n",
              "    </script>\n",
              "  </div>\n",
              "\n",
              "\n",
              "<div id=\"df-0ee5da61-bd58-4f72-b3a9-ebc6174c37e3\">\n",
              "  <button class=\"colab-df-quickchart\" onclick=\"quickchart('df-0ee5da61-bd58-4f72-b3a9-ebc6174c37e3')\"\n",
              "            title=\"Suggest charts\"\n",
              "            style=\"display:none;\">\n",
              "\n",
              "<svg xmlns=\"http://www.w3.org/2000/svg\" height=\"24px\"viewBox=\"0 0 24 24\"\n",
              "     width=\"24px\">\n",
              "    <g>\n",
              "        <path d=\"M19 3H5c-1.1 0-2 .9-2 2v14c0 1.1.9 2 2 2h14c1.1 0 2-.9 2-2V5c0-1.1-.9-2-2-2zM9 17H7v-7h2v7zm4 0h-2V7h2v10zm4 0h-2v-4h2v4z\"/>\n",
              "    </g>\n",
              "</svg>\n",
              "  </button>\n",
              "\n",
              "<style>\n",
              "  .colab-df-quickchart {\n",
              "      --bg-color: #E8F0FE;\n",
              "      --fill-color: #1967D2;\n",
              "      --hover-bg-color: #E2EBFA;\n",
              "      --hover-fill-color: #174EA6;\n",
              "      --disabled-fill-color: #AAA;\n",
              "      --disabled-bg-color: #DDD;\n",
              "  }\n",
              "\n",
              "  [theme=dark] .colab-df-quickchart {\n",
              "      --bg-color: #3B4455;\n",
              "      --fill-color: #D2E3FC;\n",
              "      --hover-bg-color: #434B5C;\n",
              "      --hover-fill-color: #FFFFFF;\n",
              "      --disabled-bg-color: #3B4455;\n",
              "      --disabled-fill-color: #666;\n",
              "  }\n",
              "\n",
              "  .colab-df-quickchart {\n",
              "    background-color: var(--bg-color);\n",
              "    border: none;\n",
              "    border-radius: 50%;\n",
              "    cursor: pointer;\n",
              "    display: none;\n",
              "    fill: var(--fill-color);\n",
              "    height: 32px;\n",
              "    padding: 0;\n",
              "    width: 32px;\n",
              "  }\n",
              "\n",
              "  .colab-df-quickchart:hover {\n",
              "    background-color: var(--hover-bg-color);\n",
              "    box-shadow: 0 1px 2px rgba(60, 64, 67, 0.3), 0 1px 3px 1px rgba(60, 64, 67, 0.15);\n",
              "    fill: var(--button-hover-fill-color);\n",
              "  }\n",
              "\n",
              "  .colab-df-quickchart-complete:disabled,\n",
              "  .colab-df-quickchart-complete:disabled:hover {\n",
              "    background-color: var(--disabled-bg-color);\n",
              "    fill: var(--disabled-fill-color);\n",
              "    box-shadow: none;\n",
              "  }\n",
              "\n",
              "  .colab-df-spinner {\n",
              "    border: 2px solid var(--fill-color);\n",
              "    border-color: transparent;\n",
              "    border-bottom-color: var(--fill-color);\n",
              "    animation:\n",
              "      spin 1s steps(1) infinite;\n",
              "  }\n",
              "\n",
              "  @keyframes spin {\n",
              "    0% {\n",
              "      border-color: transparent;\n",
              "      border-bottom-color: var(--fill-color);\n",
              "      border-left-color: var(--fill-color);\n",
              "    }\n",
              "    20% {\n",
              "      border-color: transparent;\n",
              "      border-left-color: var(--fill-color);\n",
              "      border-top-color: var(--fill-color);\n",
              "    }\n",
              "    30% {\n",
              "      border-color: transparent;\n",
              "      border-left-color: var(--fill-color);\n",
              "      border-top-color: var(--fill-color);\n",
              "      border-right-color: var(--fill-color);\n",
              "    }\n",
              "    40% {\n",
              "      border-color: transparent;\n",
              "      border-right-color: var(--fill-color);\n",
              "      border-top-color: var(--fill-color);\n",
              "    }\n",
              "    60% {\n",
              "      border-color: transparent;\n",
              "      border-right-color: var(--fill-color);\n",
              "    }\n",
              "    80% {\n",
              "      border-color: transparent;\n",
              "      border-right-color: var(--fill-color);\n",
              "      border-bottom-color: var(--fill-color);\n",
              "    }\n",
              "    90% {\n",
              "      border-color: transparent;\n",
              "      border-bottom-color: var(--fill-color);\n",
              "    }\n",
              "  }\n",
              "</style>\n",
              "\n",
              "  <script>\n",
              "    async function quickchart(key) {\n",
              "      const quickchartButtonEl =\n",
              "        document.querySelector('#' + key + ' button');\n",
              "      quickchartButtonEl.disabled = true;  // To prevent multiple clicks.\n",
              "      quickchartButtonEl.classList.add('colab-df-spinner');\n",
              "      try {\n",
              "        const charts = await google.colab.kernel.invokeFunction(\n",
              "            'suggestCharts', [key], {});\n",
              "      } catch (error) {\n",
              "        console.error('Error during call to suggestCharts:', error);\n",
              "      }\n",
              "      quickchartButtonEl.classList.remove('colab-df-spinner');\n",
              "      quickchartButtonEl.classList.add('colab-df-quickchart-complete');\n",
              "    }\n",
              "    (() => {\n",
              "      let quickchartButtonEl =\n",
              "        document.querySelector('#df-0ee5da61-bd58-4f72-b3a9-ebc6174c37e3 button');\n",
              "      quickchartButtonEl.style.display =\n",
              "        google.colab.kernel.accessAllowed ? 'block' : 'none';\n",
              "    })();\n",
              "  </script>\n",
              "</div>\n",
              "\n",
              "    </div>\n",
              "  </div>\n"
            ],
            "application/vnd.google.colaboratory.intrinsic+json": {
              "type": "dataframe",
              "variable_name": "transactions_df"
            }
          },
          "metadata": {},
          "execution_count": 14
        }
      ]
    },
    {
      "cell_type": "code",
      "source": [
        "labels_df.head(5)"
      ],
      "execution_count": 62,
      "id": "3",
      "metadata": {
        "colab": {
          "base_uri": "https://localhost:8080/",
          "height": 206
        },
        "id": "3",
        "outputId": "25b91b0b-ab2c-41ba-d625-fd0ef85af663"
      },
      "outputs": [
        {
          "output_type": "execute_result",
          "data": {
            "text/plain": [
              "   index  label\n",
              "0      0      0\n",
              "1      1      0\n",
              "2      2      0\n",
              "3      3      0\n",
              "4      4      0"
            ],
            "text/html": [
              "\n",
              "  <div id=\"df-b29d1b5a-27ec-4d8f-88f8-42503a2945e5\" class=\"colab-df-container\">\n",
              "    <div>\n",
              "<style scoped>\n",
              "    .dataframe tbody tr th:only-of-type {\n",
              "        vertical-align: middle;\n",
              "    }\n",
              "\n",
              "    .dataframe tbody tr th {\n",
              "        vertical-align: top;\n",
              "    }\n",
              "\n",
              "    .dataframe thead th {\n",
              "        text-align: right;\n",
              "    }\n",
              "</style>\n",
              "<table border=\"1\" class=\"dataframe\">\n",
              "  <thead>\n",
              "    <tr style=\"text-align: right;\">\n",
              "      <th></th>\n",
              "      <th>index</th>\n",
              "      <th>label</th>\n",
              "    </tr>\n",
              "  </thead>\n",
              "  <tbody>\n",
              "    <tr>\n",
              "      <th>0</th>\n",
              "      <td>0</td>\n",
              "      <td>0</td>\n",
              "    </tr>\n",
              "    <tr>\n",
              "      <th>1</th>\n",
              "      <td>1</td>\n",
              "      <td>0</td>\n",
              "    </tr>\n",
              "    <tr>\n",
              "      <th>2</th>\n",
              "      <td>2</td>\n",
              "      <td>0</td>\n",
              "    </tr>\n",
              "    <tr>\n",
              "      <th>3</th>\n",
              "      <td>3</td>\n",
              "      <td>0</td>\n",
              "    </tr>\n",
              "    <tr>\n",
              "      <th>4</th>\n",
              "      <td>4</td>\n",
              "      <td>0</td>\n",
              "    </tr>\n",
              "  </tbody>\n",
              "</table>\n",
              "</div>\n",
              "    <div class=\"colab-df-buttons\">\n",
              "\n",
              "  <div class=\"colab-df-container\">\n",
              "    <button class=\"colab-df-convert\" onclick=\"convertToInteractive('df-b29d1b5a-27ec-4d8f-88f8-42503a2945e5')\"\n",
              "            title=\"Convert this dataframe to an interactive table.\"\n",
              "            style=\"display:none;\">\n",
              "\n",
              "  <svg xmlns=\"http://www.w3.org/2000/svg\" height=\"24px\" viewBox=\"0 -960 960 960\">\n",
              "    <path d=\"M120-120v-720h720v720H120Zm60-500h600v-160H180v160Zm220 220h160v-160H400v160Zm0 220h160v-160H400v160ZM180-400h160v-160H180v160Zm440 0h160v-160H620v160ZM180-180h160v-160H180v160Zm440 0h160v-160H620v160Z\"/>\n",
              "  </svg>\n",
              "    </button>\n",
              "\n",
              "  <style>\n",
              "    .colab-df-container {\n",
              "      display:flex;\n",
              "      gap: 12px;\n",
              "    }\n",
              "\n",
              "    .colab-df-convert {\n",
              "      background-color: #E8F0FE;\n",
              "      border: none;\n",
              "      border-radius: 50%;\n",
              "      cursor: pointer;\n",
              "      display: none;\n",
              "      fill: #1967D2;\n",
              "      height: 32px;\n",
              "      padding: 0 0 0 0;\n",
              "      width: 32px;\n",
              "    }\n",
              "\n",
              "    .colab-df-convert:hover {\n",
              "      background-color: #E2EBFA;\n",
              "      box-shadow: 0px 1px 2px rgba(60, 64, 67, 0.3), 0px 1px 3px 1px rgba(60, 64, 67, 0.15);\n",
              "      fill: #174EA6;\n",
              "    }\n",
              "\n",
              "    .colab-df-buttons div {\n",
              "      margin-bottom: 4px;\n",
              "    }\n",
              "\n",
              "    [theme=dark] .colab-df-convert {\n",
              "      background-color: #3B4455;\n",
              "      fill: #D2E3FC;\n",
              "    }\n",
              "\n",
              "    [theme=dark] .colab-df-convert:hover {\n",
              "      background-color: #434B5C;\n",
              "      box-shadow: 0px 1px 3px 1px rgba(0, 0, 0, 0.15);\n",
              "      filter: drop-shadow(0px 1px 2px rgba(0, 0, 0, 0.3));\n",
              "      fill: #FFFFFF;\n",
              "    }\n",
              "  </style>\n",
              "\n",
              "    <script>\n",
              "      const buttonEl =\n",
              "        document.querySelector('#df-b29d1b5a-27ec-4d8f-88f8-42503a2945e5 button.colab-df-convert');\n",
              "      buttonEl.style.display =\n",
              "        google.colab.kernel.accessAllowed ? 'block' : 'none';\n",
              "\n",
              "      async function convertToInteractive(key) {\n",
              "        const element = document.querySelector('#df-b29d1b5a-27ec-4d8f-88f8-42503a2945e5');\n",
              "        const dataTable =\n",
              "          await google.colab.kernel.invokeFunction('convertToInteractive',\n",
              "                                                    [key], {});\n",
              "        if (!dataTable) return;\n",
              "\n",
              "        const docLinkHtml = 'Like what you see? Visit the ' +\n",
              "          '<a target=\"_blank\" href=https://colab.research.google.com/notebooks/data_table.ipynb>data table notebook</a>'\n",
              "          + ' to learn more about interactive tables.';\n",
              "        element.innerHTML = '';\n",
              "        dataTable['output_type'] = 'display_data';\n",
              "        await google.colab.output.renderOutput(dataTable, element);\n",
              "        const docLink = document.createElement('div');\n",
              "        docLink.innerHTML = docLinkHtml;\n",
              "        element.appendChild(docLink);\n",
              "      }\n",
              "    </script>\n",
              "  </div>\n",
              "\n",
              "\n",
              "<div id=\"df-d2324cec-9c0c-478b-811e-8951d051f8fb\">\n",
              "  <button class=\"colab-df-quickchart\" onclick=\"quickchart('df-d2324cec-9c0c-478b-811e-8951d051f8fb')\"\n",
              "            title=\"Suggest charts\"\n",
              "            style=\"display:none;\">\n",
              "\n",
              "<svg xmlns=\"http://www.w3.org/2000/svg\" height=\"24px\"viewBox=\"0 0 24 24\"\n",
              "     width=\"24px\">\n",
              "    <g>\n",
              "        <path d=\"M19 3H5c-1.1 0-2 .9-2 2v14c0 1.1.9 2 2 2h14c1.1 0 2-.9 2-2V5c0-1.1-.9-2-2-2zM9 17H7v-7h2v7zm4 0h-2V7h2v10zm4 0h-2v-4h2v4z\"/>\n",
              "    </g>\n",
              "</svg>\n",
              "  </button>\n",
              "\n",
              "<style>\n",
              "  .colab-df-quickchart {\n",
              "      --bg-color: #E8F0FE;\n",
              "      --fill-color: #1967D2;\n",
              "      --hover-bg-color: #E2EBFA;\n",
              "      --hover-fill-color: #174EA6;\n",
              "      --disabled-fill-color: #AAA;\n",
              "      --disabled-bg-color: #DDD;\n",
              "  }\n",
              "\n",
              "  [theme=dark] .colab-df-quickchart {\n",
              "      --bg-color: #3B4455;\n",
              "      --fill-color: #D2E3FC;\n",
              "      --hover-bg-color: #434B5C;\n",
              "      --hover-fill-color: #FFFFFF;\n",
              "      --disabled-bg-color: #3B4455;\n",
              "      --disabled-fill-color: #666;\n",
              "  }\n",
              "\n",
              "  .colab-df-quickchart {\n",
              "    background-color: var(--bg-color);\n",
              "    border: none;\n",
              "    border-radius: 50%;\n",
              "    cursor: pointer;\n",
              "    display: none;\n",
              "    fill: var(--fill-color);\n",
              "    height: 32px;\n",
              "    padding: 0;\n",
              "    width: 32px;\n",
              "  }\n",
              "\n",
              "  .colab-df-quickchart:hover {\n",
              "    background-color: var(--hover-bg-color);\n",
              "    box-shadow: 0 1px 2px rgba(60, 64, 67, 0.3), 0 1px 3px 1px rgba(60, 64, 67, 0.15);\n",
              "    fill: var(--button-hover-fill-color);\n",
              "  }\n",
              "\n",
              "  .colab-df-quickchart-complete:disabled,\n",
              "  .colab-df-quickchart-complete:disabled:hover {\n",
              "    background-color: var(--disabled-bg-color);\n",
              "    fill: var(--disabled-fill-color);\n",
              "    box-shadow: none;\n",
              "  }\n",
              "\n",
              "  .colab-df-spinner {\n",
              "    border: 2px solid var(--fill-color);\n",
              "    border-color: transparent;\n",
              "    border-bottom-color: var(--fill-color);\n",
              "    animation:\n",
              "      spin 1s steps(1) infinite;\n",
              "  }\n",
              "\n",
              "  @keyframes spin {\n",
              "    0% {\n",
              "      border-color: transparent;\n",
              "      border-bottom-color: var(--fill-color);\n",
              "      border-left-color: var(--fill-color);\n",
              "    }\n",
              "    20% {\n",
              "      border-color: transparent;\n",
              "      border-left-color: var(--fill-color);\n",
              "      border-top-color: var(--fill-color);\n",
              "    }\n",
              "    30% {\n",
              "      border-color: transparent;\n",
              "      border-left-color: var(--fill-color);\n",
              "      border-top-color: var(--fill-color);\n",
              "      border-right-color: var(--fill-color);\n",
              "    }\n",
              "    40% {\n",
              "      border-color: transparent;\n",
              "      border-right-color: var(--fill-color);\n",
              "      border-top-color: var(--fill-color);\n",
              "    }\n",
              "    60% {\n",
              "      border-color: transparent;\n",
              "      border-right-color: var(--fill-color);\n",
              "    }\n",
              "    80% {\n",
              "      border-color: transparent;\n",
              "      border-right-color: var(--fill-color);\n",
              "      border-bottom-color: var(--fill-color);\n",
              "    }\n",
              "    90% {\n",
              "      border-color: transparent;\n",
              "      border-bottom-color: var(--fill-color);\n",
              "    }\n",
              "  }\n",
              "</style>\n",
              "\n",
              "  <script>\n",
              "    async function quickchart(key) {\n",
              "      const quickchartButtonEl =\n",
              "        document.querySelector('#' + key + ' button');\n",
              "      quickchartButtonEl.disabled = true;  // To prevent multiple clicks.\n",
              "      quickchartButtonEl.classList.add('colab-df-spinner');\n",
              "      try {\n",
              "        const charts = await google.colab.kernel.invokeFunction(\n",
              "            'suggestCharts', [key], {});\n",
              "      } catch (error) {\n",
              "        console.error('Error during call to suggestCharts:', error);\n",
              "      }\n",
              "      quickchartButtonEl.classList.remove('colab-df-spinner');\n",
              "      quickchartButtonEl.classList.add('colab-df-quickchart-complete');\n",
              "    }\n",
              "    (() => {\n",
              "      let quickchartButtonEl =\n",
              "        document.querySelector('#df-d2324cec-9c0c-478b-811e-8951d051f8fb button');\n",
              "      quickchartButtonEl.style.display =\n",
              "        google.colab.kernel.accessAllowed ? 'block' : 'none';\n",
              "    })();\n",
              "  </script>\n",
              "</div>\n",
              "\n",
              "    </div>\n",
              "  </div>\n"
            ],
            "application/vnd.google.colaboratory.intrinsic+json": {
              "type": "dataframe",
              "variable_name": "labels_df",
              "summary": "{\n  \"name\": \"labels_df\",\n  \"rows\": 74283,\n  \"fields\": [\n    {\n      \"column\": \"index\",\n      \"properties\": {\n        \"dtype\": \"number\",\n        \"std\": 21443,\n        \"min\": 0,\n        \"max\": 74282,\n        \"num_unique_values\": 74283,\n        \"samples\": [\n          57639,\n          36246,\n          36011\n        ],\n        \"semantic_type\": \"\",\n        \"description\": \"\"\n      }\n    },\n    {\n      \"column\": \"label\",\n      \"properties\": {\n        \"dtype\": \"number\",\n        \"std\": 0,\n        \"min\": 0,\n        \"max\": 1,\n        \"num_unique_values\": 2,\n        \"samples\": [\n          1,\n          0\n        ],\n        \"semantic_type\": \"\",\n        \"description\": \"\"\n      }\n    }\n  ]\n}"
            }
          },
          "metadata": {},
          "execution_count": 62
        }
      ]
    },
    {
      "cell_type": "markdown",
      "source": [
        "Our dataset has 201406 datapoints, each with a corresponding label. Since we don't have a natural primary key in the dataset that can uniquely identify each row, we'll use the inbuilt index that pandas provides."
      ],
      "id": "6",
      "metadata": {
        "id": "6"
      }
    },
    {
      "cell_type": "markdown",
      "source": [
        "## Data Ingestion"
      ],
      "id": "9",
      "metadata": {
        "id": "9"
      }
    },
    {
      "cell_type": "markdown",
      "source": [
        "We can now upload these dataframes to the TurboML platform, the **OnlineDataset** class can be used here. It takes in the dataframe, the primary key,  and the name of the dataset that is to be created for the given dataframe as input."
      ],
      "id": "10",
      "metadata": {
        "id": "10"
      }
    },
    {
      "cell_type": "code",
      "source": [
        "# Assuming 'label' is a categorical column with values like 'Yes' and 'No'\n",
        "labels_df['label'] = labels_df['label'].map({'Yes': 1, 'No': 0})\n"
      ],
      "metadata": {
        "id": "UiPm1rEsMSQr"
      },
      "id": "UiPm1rEsMSQr",
      "execution_count": 58,
      "outputs": []
    },
    {
      "cell_type": "code",
      "source": [
        "labels_df.head()"
      ],
      "metadata": {
        "colab": {
          "base_uri": "https://localhost:8080/",
          "height": 206
        },
        "id": "04P_so4s52ZC",
        "outputId": "77c14f9e-7994-4ad2-9626-f7f25e9ebfcc"
      },
      "id": "04P_so4s52ZC",
      "execution_count": 60,
      "outputs": [
        {
          "output_type": "execute_result",
          "data": {
            "text/plain": [
              "   index  label\n",
              "0      0      0\n",
              "1      1      0\n",
              "2      2      0\n",
              "3      3      0\n",
              "4      4      0"
            ],
            "text/html": [
              "\n",
              "  <div id=\"df-207e9542-68fb-438c-b41b-c9d41ec3ee00\" class=\"colab-df-container\">\n",
              "    <div>\n",
              "<style scoped>\n",
              "    .dataframe tbody tr th:only-of-type {\n",
              "        vertical-align: middle;\n",
              "    }\n",
              "\n",
              "    .dataframe tbody tr th {\n",
              "        vertical-align: top;\n",
              "    }\n",
              "\n",
              "    .dataframe thead th {\n",
              "        text-align: right;\n",
              "    }\n",
              "</style>\n",
              "<table border=\"1\" class=\"dataframe\">\n",
              "  <thead>\n",
              "    <tr style=\"text-align: right;\">\n",
              "      <th></th>\n",
              "      <th>index</th>\n",
              "      <th>label</th>\n",
              "    </tr>\n",
              "  </thead>\n",
              "  <tbody>\n",
              "    <tr>\n",
              "      <th>0</th>\n",
              "      <td>0</td>\n",
              "      <td>0</td>\n",
              "    </tr>\n",
              "    <tr>\n",
              "      <th>1</th>\n",
              "      <td>1</td>\n",
              "      <td>0</td>\n",
              "    </tr>\n",
              "    <tr>\n",
              "      <th>2</th>\n",
              "      <td>2</td>\n",
              "      <td>0</td>\n",
              "    </tr>\n",
              "    <tr>\n",
              "      <th>3</th>\n",
              "      <td>3</td>\n",
              "      <td>0</td>\n",
              "    </tr>\n",
              "    <tr>\n",
              "      <th>4</th>\n",
              "      <td>4</td>\n",
              "      <td>0</td>\n",
              "    </tr>\n",
              "  </tbody>\n",
              "</table>\n",
              "</div>\n",
              "    <div class=\"colab-df-buttons\">\n",
              "\n",
              "  <div class=\"colab-df-container\">\n",
              "    <button class=\"colab-df-convert\" onclick=\"convertToInteractive('df-207e9542-68fb-438c-b41b-c9d41ec3ee00')\"\n",
              "            title=\"Convert this dataframe to an interactive table.\"\n",
              "            style=\"display:none;\">\n",
              "\n",
              "  <svg xmlns=\"http://www.w3.org/2000/svg\" height=\"24px\" viewBox=\"0 -960 960 960\">\n",
              "    <path d=\"M120-120v-720h720v720H120Zm60-500h600v-160H180v160Zm220 220h160v-160H400v160Zm0 220h160v-160H400v160ZM180-400h160v-160H180v160Zm440 0h160v-160H620v160ZM180-180h160v-160H180v160Zm440 0h160v-160H620v160Z\"/>\n",
              "  </svg>\n",
              "    </button>\n",
              "\n",
              "  <style>\n",
              "    .colab-df-container {\n",
              "      display:flex;\n",
              "      gap: 12px;\n",
              "    }\n",
              "\n",
              "    .colab-df-convert {\n",
              "      background-color: #E8F0FE;\n",
              "      border: none;\n",
              "      border-radius: 50%;\n",
              "      cursor: pointer;\n",
              "      display: none;\n",
              "      fill: #1967D2;\n",
              "      height: 32px;\n",
              "      padding: 0 0 0 0;\n",
              "      width: 32px;\n",
              "    }\n",
              "\n",
              "    .colab-df-convert:hover {\n",
              "      background-color: #E2EBFA;\n",
              "      box-shadow: 0px 1px 2px rgba(60, 64, 67, 0.3), 0px 1px 3px 1px rgba(60, 64, 67, 0.15);\n",
              "      fill: #174EA6;\n",
              "    }\n",
              "\n",
              "    .colab-df-buttons div {\n",
              "      margin-bottom: 4px;\n",
              "    }\n",
              "\n",
              "    [theme=dark] .colab-df-convert {\n",
              "      background-color: #3B4455;\n",
              "      fill: #D2E3FC;\n",
              "    }\n",
              "\n",
              "    [theme=dark] .colab-df-convert:hover {\n",
              "      background-color: #434B5C;\n",
              "      box-shadow: 0px 1px 3px 1px rgba(0, 0, 0, 0.15);\n",
              "      filter: drop-shadow(0px 1px 2px rgba(0, 0, 0, 0.3));\n",
              "      fill: #FFFFFF;\n",
              "    }\n",
              "  </style>\n",
              "\n",
              "    <script>\n",
              "      const buttonEl =\n",
              "        document.querySelector('#df-207e9542-68fb-438c-b41b-c9d41ec3ee00 button.colab-df-convert');\n",
              "      buttonEl.style.display =\n",
              "        google.colab.kernel.accessAllowed ? 'block' : 'none';\n",
              "\n",
              "      async function convertToInteractive(key) {\n",
              "        const element = document.querySelector('#df-207e9542-68fb-438c-b41b-c9d41ec3ee00');\n",
              "        const dataTable =\n",
              "          await google.colab.kernel.invokeFunction('convertToInteractive',\n",
              "                                                    [key], {});\n",
              "        if (!dataTable) return;\n",
              "\n",
              "        const docLinkHtml = 'Like what you see? Visit the ' +\n",
              "          '<a target=\"_blank\" href=https://colab.research.google.com/notebooks/data_table.ipynb>data table notebook</a>'\n",
              "          + ' to learn more about interactive tables.';\n",
              "        element.innerHTML = '';\n",
              "        dataTable['output_type'] = 'display_data';\n",
              "        await google.colab.output.renderOutput(dataTable, element);\n",
              "        const docLink = document.createElement('div');\n",
              "        docLink.innerHTML = docLinkHtml;\n",
              "        element.appendChild(docLink);\n",
              "      }\n",
              "    </script>\n",
              "  </div>\n",
              "\n",
              "\n",
              "<div id=\"df-6790877b-4f6d-4ba0-abd6-c622e90752fa\">\n",
              "  <button class=\"colab-df-quickchart\" onclick=\"quickchart('df-6790877b-4f6d-4ba0-abd6-c622e90752fa')\"\n",
              "            title=\"Suggest charts\"\n",
              "            style=\"display:none;\">\n",
              "\n",
              "<svg xmlns=\"http://www.w3.org/2000/svg\" height=\"24px\"viewBox=\"0 0 24 24\"\n",
              "     width=\"24px\">\n",
              "    <g>\n",
              "        <path d=\"M19 3H5c-1.1 0-2 .9-2 2v14c0 1.1.9 2 2 2h14c1.1 0 2-.9 2-2V5c0-1.1-.9-2-2-2zM9 17H7v-7h2v7zm4 0h-2V7h2v10zm4 0h-2v-4h2v4z\"/>\n",
              "    </g>\n",
              "</svg>\n",
              "  </button>\n",
              "\n",
              "<style>\n",
              "  .colab-df-quickchart {\n",
              "      --bg-color: #E8F0FE;\n",
              "      --fill-color: #1967D2;\n",
              "      --hover-bg-color: #E2EBFA;\n",
              "      --hover-fill-color: #174EA6;\n",
              "      --disabled-fill-color: #AAA;\n",
              "      --disabled-bg-color: #DDD;\n",
              "  }\n",
              "\n",
              "  [theme=dark] .colab-df-quickchart {\n",
              "      --bg-color: #3B4455;\n",
              "      --fill-color: #D2E3FC;\n",
              "      --hover-bg-color: #434B5C;\n",
              "      --hover-fill-color: #FFFFFF;\n",
              "      --disabled-bg-color: #3B4455;\n",
              "      --disabled-fill-color: #666;\n",
              "  }\n",
              "\n",
              "  .colab-df-quickchart {\n",
              "    background-color: var(--bg-color);\n",
              "    border: none;\n",
              "    border-radius: 50%;\n",
              "    cursor: pointer;\n",
              "    display: none;\n",
              "    fill: var(--fill-color);\n",
              "    height: 32px;\n",
              "    padding: 0;\n",
              "    width: 32px;\n",
              "  }\n",
              "\n",
              "  .colab-df-quickchart:hover {\n",
              "    background-color: var(--hover-bg-color);\n",
              "    box-shadow: 0 1px 2px rgba(60, 64, 67, 0.3), 0 1px 3px 1px rgba(60, 64, 67, 0.15);\n",
              "    fill: var(--button-hover-fill-color);\n",
              "  }\n",
              "\n",
              "  .colab-df-quickchart-complete:disabled,\n",
              "  .colab-df-quickchart-complete:disabled:hover {\n",
              "    background-color: var(--disabled-bg-color);\n",
              "    fill: var(--disabled-fill-color);\n",
              "    box-shadow: none;\n",
              "  }\n",
              "\n",
              "  .colab-df-spinner {\n",
              "    border: 2px solid var(--fill-color);\n",
              "    border-color: transparent;\n",
              "    border-bottom-color: var(--fill-color);\n",
              "    animation:\n",
              "      spin 1s steps(1) infinite;\n",
              "  }\n",
              "\n",
              "  @keyframes spin {\n",
              "    0% {\n",
              "      border-color: transparent;\n",
              "      border-bottom-color: var(--fill-color);\n",
              "      border-left-color: var(--fill-color);\n",
              "    }\n",
              "    20% {\n",
              "      border-color: transparent;\n",
              "      border-left-color: var(--fill-color);\n",
              "      border-top-color: var(--fill-color);\n",
              "    }\n",
              "    30% {\n",
              "      border-color: transparent;\n",
              "      border-left-color: var(--fill-color);\n",
              "      border-top-color: var(--fill-color);\n",
              "      border-right-color: var(--fill-color);\n",
              "    }\n",
              "    40% {\n",
              "      border-color: transparent;\n",
              "      border-right-color: var(--fill-color);\n",
              "      border-top-color: var(--fill-color);\n",
              "    }\n",
              "    60% {\n",
              "      border-color: transparent;\n",
              "      border-right-color: var(--fill-color);\n",
              "    }\n",
              "    80% {\n",
              "      border-color: transparent;\n",
              "      border-right-color: var(--fill-color);\n",
              "      border-bottom-color: var(--fill-color);\n",
              "    }\n",
              "    90% {\n",
              "      border-color: transparent;\n",
              "      border-bottom-color: var(--fill-color);\n",
              "    }\n",
              "  }\n",
              "</style>\n",
              "\n",
              "  <script>\n",
              "    async function quickchart(key) {\n",
              "      const quickchartButtonEl =\n",
              "        document.querySelector('#' + key + ' button');\n",
              "      quickchartButtonEl.disabled = true;  // To prevent multiple clicks.\n",
              "      quickchartButtonEl.classList.add('colab-df-spinner');\n",
              "      try {\n",
              "        const charts = await google.colab.kernel.invokeFunction(\n",
              "            'suggestCharts', [key], {});\n",
              "      } catch (error) {\n",
              "        console.error('Error during call to suggestCharts:', error);\n",
              "      }\n",
              "      quickchartButtonEl.classList.remove('colab-df-spinner');\n",
              "      quickchartButtonEl.classList.add('colab-df-quickchart-complete');\n",
              "    }\n",
              "    (() => {\n",
              "      let quickchartButtonEl =\n",
              "        document.querySelector('#df-6790877b-4f6d-4ba0-abd6-c622e90752fa button');\n",
              "      quickchartButtonEl.style.display =\n",
              "        google.colab.kernel.accessAllowed ? 'block' : 'none';\n",
              "    })();\n",
              "  </script>\n",
              "</div>\n",
              "\n",
              "    </div>\n",
              "  </div>\n"
            ],
            "application/vnd.google.colaboratory.intrinsic+json": {
              "type": "dataframe",
              "variable_name": "labels_df",
              "summary": "{\n  \"name\": \"labels_df\",\n  \"rows\": 74283,\n  \"fields\": [\n    {\n      \"column\": \"index\",\n      \"properties\": {\n        \"dtype\": \"number\",\n        \"std\": 21443,\n        \"min\": 0,\n        \"max\": 74282,\n        \"num_unique_values\": 74283,\n        \"samples\": [\n          57639,\n          36246,\n          36011\n        ],\n        \"semantic_type\": \"\",\n        \"description\": \"\"\n      }\n    },\n    {\n      \"column\": \"label\",\n      \"properties\": {\n        \"dtype\": \"number\",\n        \"std\": 0,\n        \"min\": 0,\n        \"max\": 1,\n        \"num_unique_values\": 2,\n        \"samples\": [\n          1,\n          0\n        ],\n        \"semantic_type\": \"\",\n        \"description\": \"\"\n      }\n    }\n  ]\n}"
            }
          },
          "metadata": {},
          "execution_count": 60
        }
      ]
    },
    {
      "cell_type": "code",
      "source": [
        "# Rename columns to match TurboML naming conventions\n",
        "transactions_df.columns = transactions_df.columns.str.replace(\" \", \"_\")\n",
        "labels_df.columns = labels_df.columns.str.replace(\" \", \"_\")\n",
        "\n",
        "\n"
      ],
      "metadata": {
        "id": "qjiCHnPE6tVf"
      },
      "id": "qjiCHnPE6tVf",
      "execution_count": 19,
      "outputs": []
    },
    {
      "cell_type": "code",
      "source": [],
      "metadata": {
        "colab": {
          "base_uri": "https://localhost:8080/",
          "height": 141
        },
        "id": "Yo9-5GcgMlZx",
        "outputId": "468893b8-a898-4c56-d0aa-4caa4f8e7ecb"
      },
      "id": "Yo9-5GcgMlZx",
      "execution_count": 107,
      "outputs": [
        {
          "output_type": "error",
          "ename": "AttributeError",
          "evalue": "type object 'OnlineDataset' has no attribute 'from_online_dataset'",
          "traceback": [
            "\u001b[0;31m---------------------------------------------------------------------------\u001b[0m",
            "\u001b[0;31mAttributeError\u001b[0m                            Traceback (most recent call last)",
            "\u001b[0;32m<ipython-input-107-2b9a2270b553>\u001b[0m in \u001b[0;36m<cell line: 0>\u001b[0;34m()\u001b[0m\n\u001b[0;32m----> 1\u001b[0;31m \u001b[0mtransactions\u001b[0m \u001b[0;34m=\u001b[0m \u001b[0mtb\u001b[0m\u001b[0;34m.\u001b[0m\u001b[0mOnlineDataset\u001b[0m\u001b[0;34m.\u001b[0m\u001b[0mfrom_online_dataset\u001b[0m\u001b[0;34m(\u001b[0m\u001b[0mdataset_id\u001b[0m\u001b[0;34m=\u001b[0m\u001b[0;34m'_turboml.inputs.qs_transactions'\u001b[0m\u001b[0;34m)\u001b[0m\u001b[0;34m\u001b[0m\u001b[0;34m\u001b[0m\u001b[0m\n\u001b[0m",
            "\u001b[0;31mAttributeError\u001b[0m: type object 'OnlineDataset' has no attribute 'from_online_dataset'"
          ]
        }
      ]
    },
    {
      "cell_type": "code",
      "source": [
        "tb.OnlineDataset."
      ],
      "metadata": {
        "id": "wHsnEFA00RXI",
        "outputId": "3608c50a-3219-452a-c83f-8012c2c0950a",
        "colab": {
          "base_uri": "https://localhost:8080/",
          "height": 141
        }
      },
      "id": "wHsnEFA00RXI",
      "execution_count": 121,
      "outputs": [
        {
          "output_type": "error",
          "ename": "AttributeError",
          "evalue": "type object 'OnlineDataset' has no attribute 'list_datasets'",
          "traceback": [
            "\u001b[0;31m---------------------------------------------------------------------------\u001b[0m",
            "\u001b[0;31mAttributeError\u001b[0m                            Traceback (most recent call last)",
            "\u001b[0;32m<ipython-input-121-bca4be05e3e7>\u001b[0m in \u001b[0;36m<cell line: 0>\u001b[0;34m()\u001b[0m\n\u001b[0;32m----> 1\u001b[0;31m \u001b[0mtb\u001b[0m\u001b[0;34m.\u001b[0m\u001b[0mOnlineDataset\u001b[0m\u001b[0;34m.\u001b[0m\u001b[0mlist_datasets\u001b[0m\u001b[0;34m(\u001b[0m\u001b[0;34m)\u001b[0m\u001b[0;34m\u001b[0m\u001b[0;34m\u001b[0m\u001b[0m\n\u001b[0m",
            "\u001b[0;31mAttributeError\u001b[0m: type object 'OnlineDataset' has no attribute 'list_datasets'"
          ]
        }
      ]
    },
    {
      "cell_type": "code",
      "source": [
        "# Attempt to create and upload dataset\n",
        "# Upload datasets\n",
        "transactions = tb.OnlineDataset.from_pd(\n",
        "    id=\"qs_transactions\",\n",
        "    df=transactions_df,\n",
        "    key_field=\"index\",\n",
        "    load_if_exists=True,\n",
        ")\n",
        "labels = tb.OnlineDataset.from_pd(\n",
        "    id=\"qss_transaction_labels\",\n",
        "    df=labels_df,\n",
        "    key_field=\"index\",\n",
        "    load_if_exists=True,\n",
        ")"
      ],
      "execution_count": 122,
      "id": "11",
      "metadata": {
        "id": "11"
      },
      "outputs": []
    },
    {
      "cell_type": "markdown",
      "source": [
        "## Feature Engineering\n",
        "\n",
        "TurboML platform facilitates transformations on raw data to produce new features. You can use the jupyter notebook as a \"playground\" to explore different features. This involves 3 steps.\n",
        "- **fetch data**: Experimentation is easier on static data. Since TurboML works with continuous data streams, to enable experimentation we fetch a snapshot or a subset of data in the jupyter notebook.\n",
        "- **add feature definitions**: Now that we have a static dataset, we can define multiple different features, and see their values on this dataset. Since we can observe their values, we can perform simple experiments and validations like correlations, plots and other exploratory analysis.\n",
        "- **submit feature definitions**: Once we're confident about the features we've defined, we can now submit the ones we want TurboML to compute continuously for the actual data stream."
      ],
      "id": "12",
      "metadata": {
        "id": "12"
      }
    },
    {
      "cell_type": "markdown",
      "source": [
        "### Fetch data\n",
        "\n",
        "We can use the **get_features** function to get a snapshot or subset of the data stream.\n",
        "\n",
        "**Note**: This size of the dataset returned by this function can change on each invocation. Also, the dataset is not guaranteed to be in the same order."
      ],
      "id": "13",
      "metadata": {
        "id": "13"
      }
    },
    {
      "cell_type": "markdown",
      "source": [
        "### Add feature definitions\n",
        "\n",
        "To add feature definitions, we have a class from turboml package called **FeatureEngineering**. This allows us to define SQL-based and dynamic aggregation-based features."
      ],
      "id": "14",
      "metadata": {
        "id": "14"
      }
    },
    {
      "cell_type": "markdown",
      "source": [
        "The following cell shows how to define an SQL-based feature. The sql_definition parameter in the **create_sql_features** function takes in the SQL expression to be used to prepare the feature. It returns a dataframe with all the original columns, and another column which, on a high-level is defined as ```SELECT sql_definition AS new_feature_name FROM dataframe```."
      ],
      "id": "15",
      "metadata": {
        "id": "15"
      }
    },
    {
      "cell_type": "code",
      "source": [
        "# transactions.feature_engineering.create_sql_features(\n",
        "#     sql_definition='\"transactionAmount\" + \"localHour\"',\n",
        "#     new_feature_name=\"my_sql_feat\",\n",
        "# )\n",
        "\n",
        "# Health Risk Score (Summation of Risk Factors)\n",
        "transactions.feature_engineering.create_sql_features(\n",
        "    sql_definition='CASE WHEN \"BMI\" BETWEEN 18.5 AND 24.9 THEN 0 WHEN \"BMI\" BETWEEN 25 AND 30 THEN 1 ELSE 2 END + CASE \"Smoking_Status\" WHEN \\'Never\\' THEN 0 WHEN \\'Former\\' THEN 1 ELSE 2 END + CASE \"Alcohol_Consumption\" WHEN \\'Never\\' THEN 0 WHEN \\'Occasionally\\' THEN 1 ELSE 2 END + CASE \"Diabetes\" WHEN \\'No\\' THEN 0 ELSE 1 END + CASE \"Hypertension\" WHEN \\'No\\' THEN 0 ELSE 1 END + CASE \"Cholesterol_Level\" WHEN \\'Normal\\' THEN 0 ELSE 1 END + CASE \"Genetic_Risk_Factor\" WHEN \\'No\\' THEN 0 ELSE 1 END',\n",
        "    new_feature_name=\"health_risk_score\",\n",
        ")\n"
      ],
      "execution_count": 26,
      "id": "16",
      "metadata": {
        "id": "16"
      },
      "outputs": []
    },
    {
      "cell_type": "code",
      "source": [
        "# Lifestyle Index (Summation of Lifestyle Factors)\n",
        "transactions.feature_engineering.create_sql_features(\n",
        "    sql_definition='CASE \"Physical_Activity_Level\" WHEN \\'High\\' THEN 0 WHEN \\'Medium\\' THEN 1 ELSE 2 END - (CASE \"Smoking_Status\" WHEN \\'Never\\' THEN 0 WHEN \\'Former\\' THEN 1 ELSE 2 END + CASE \"Alcohol_Consumption\" WHEN \\'Never\\' THEN 0 WHEN \\'Occasionally\\' THEN 1 ELSE 2 END)',\n",
        "    new_feature_name=\"lifestyle_index\",\n",
        ")"
      ],
      "metadata": {
        "id": "UIJ_zk13C5IF"
      },
      "id": "UIJ_zk13C5IF",
      "execution_count": 27,
      "outputs": []
    },
    {
      "cell_type": "code",
      "source": [
        "# # Social Support Score (Summation of Social & Economic Factors)\n",
        "transactions.feature_engineering.create_sql_features(\n",
        "    sql_definition='CASE \"Marital_Status\" WHEN \\'Single\\' THEN 1 WHEN \\'Widowed\\' THEN 2 ELSE 0 END + CASE \"Social_Engagement_Level\" WHEN \\'Low\\' THEN 0 WHEN \\'Medium\\' THEN 1 ELSE 2 END + CASE \"Income_Level\" WHEN \\'Low\\' THEN 0 WHEN \\'Medium\\' THEN 1 ELSE 2 END + CASE \"Employment_Status\" WHEN \\'Retired\\' THEN 0 WHEN \\'Unemployed\\' THEN 2 ELSE 1 END',\n",
        "    new_feature_name=\"social_support_score\",\n",
        ")"
      ],
      "metadata": {
        "id": "WYqFnuvEC5Bc"
      },
      "id": "WYqFnuvEC5Bc",
      "execution_count": 30,
      "outputs": []
    },
    {
      "cell_type": "code",
      "source": [
        "# Cognitive Health Score (Influence of Cognitive & Mental Health Factors)\n",
        "transactions.feature_engineering.create_sql_features(\n",
        "    sql_definition='CASE WHEN \"Cognitive_Test_Score\" BETWEEN 30 AND 50 THEN 0 WHEN \"Cognitive_Test_Score\" BETWEEN 51 AND 70 THEN 1 ELSE 2 END - (CASE \"Depression_Level\" WHEN \\'Low\\' THEN 0 WHEN \\'Medium\\' THEN 1 ELSE 2 END + CASE \"Stress_Levels\" WHEN \\'Low\\' THEN 0 WHEN \\'Medium\\' THEN 1 ELSE 2 END)',\n",
        "    new_feature_name=\"cognitive_health_score\",\n",
        ")\n"
      ],
      "metadata": {
        "id": "QVbpFWEPC473"
      },
      "id": "QVbpFWEPC473",
      "execution_count": 32,
      "outputs": []
    },
    {
      "cell_type": "code",
      "source": [
        "# Environmental Exposure Score (Air Pollution & Urban Living Impact)\n",
        "transactions.feature_engineering.create_sql_features(\n",
        "    sql_definition='CASE \"Air_Pollution_Exposure\" WHEN \\'Low\\' THEN 0 WHEN \\'Medium\\' THEN 1 ELSE 2 END + CASE \"Urban_vs_Rural_Living\" WHEN \\'Urban\\' THEN 1 ELSE 0 END',\n",
        "    new_feature_name=\"environmental_exposure_score\",\n",
        ")"
      ],
      "metadata": {
        "id": "oSyNd654C4zN"
      },
      "id": "oSyNd654C4zN",
      "execution_count": 33,
      "outputs": []
    },
    {
      "cell_type": "code",
      "source": [
        "# Sleep & Mental Wellness Score\n",
        "transactions.feature_engineering.create_sql_features(\n",
        "    sql_definition='CASE \"Sleep_Quality\" WHEN \\'Good\\' THEN 0 WHEN \\'Average\\' THEN 1 ELSE 2 END - (CASE \"Stress_Levels\" WHEN \\'Low\\' THEN 0 WHEN \\'Medium\\' THEN 1 ELSE 2 END + CASE \"Depression_Level\" WHEN \\'Low\\' THEN 0 WHEN \\'Medium\\' THEN 1 ELSE 2 END)',\n",
        "    new_feature_name=\"sleep_mental_wellness_score\",\n",
        ")"
      ],
      "metadata": {
        "id": "Q-wec03SDALL"
      },
      "id": "Q-wec03SDALL",
      "execution_count": 34,
      "outputs": []
    },
    {
      "cell_type": "code",
      "source": [
        "transactions.feature_engineering.get_local_features()"
      ],
      "execution_count": 35,
      "id": "17",
      "metadata": {
        "colab": {
          "base_uri": "https://localhost:8080/",
          "height": 478
        },
        "id": "17",
        "outputId": "e72614ea-a1ff-4ba5-a3d5-1e5bd8b01ffc"
      },
      "outputs": [
        {
          "output_type": "execute_result",
          "data": {
            "text/plain": [
              "       index       Country  Age  Gender  Education_Level   BMI  \\\n",
              "0          1     Argentina   72    Male                7  29.9   \n",
              "1          6   South Korea   91  Female               18  24.1   \n",
              "2          8         China   84  Female               11  22.0   \n",
              "3         13         India   61    Male               15  22.9   \n",
              "4         15        Canada   53  Female                6  29.1   \n",
              "...      ...           ...  ...     ...              ...   ...   \n",
              "49915  49904         Japan   76    Male               12  32.0   \n",
              "49916  49907        Sweden   88  Female               12  27.6   \n",
              "49917  49908        Canada   68    Male               18  18.6   \n",
              "49918  49911  South Africa   53    Male               11  26.6   \n",
              "49919  49913        France   60  Female               14  29.1   \n",
              "\n",
              "      Physical_Activity_Level Smoking_Status Alcohol_Consumption Diabetes  \\\n",
              "0                      Medium         Former               Never       No   \n",
              "1                        High         Former        Occasionally       No   \n",
              "2                        High        Current           Regularly       No   \n",
              "3                        High         Former           Regularly       No   \n",
              "4                         Low          Never        Occasionally       No   \n",
              "...                       ...            ...                 ...      ...   \n",
              "49915                    High        Current               Never       No   \n",
              "49916                    High        Current               Never       No   \n",
              "49917                     Low          Never               Never       No   \n",
              "49918                    High        Current           Regularly       No   \n",
              "49919                     Low          Never        Occasionally       No   \n",
              "\n",
              "       ... Income_Level Stress_Levels Urban_vs_Rural_Living  gender_encoded  \\\n",
              "0      ...          Low          High                 Urban               0   \n",
              "1      ...          Low        Medium                 Urban               1   \n",
              "2      ...          Low           Low                 Rural               1   \n",
              "3      ...         High          High                 Urban               0   \n",
              "4      ...         High           Low                 Rural               1   \n",
              "...    ...          ...           ...                   ...             ...   \n",
              "49915  ...       Medium          High                 Rural               0   \n",
              "49916  ...          Low        Medium                 Rural               1   \n",
              "49917  ...         High        Medium                 Urban               0   \n",
              "49918  ...       Medium          High                 Rural               0   \n",
              "49919  ...          Low        Medium                 Urban               1   \n",
              "\n",
              "      health_risk_score lifestyle_index social_support_score  \\\n",
              "0                     2               0                    6   \n",
              "1                     3              -2                    5   \n",
              "2                     5              -4                    3   \n",
              "3                     3              -3                    4   \n",
              "4                     3               1                    4   \n",
              "...                 ...             ...                  ...   \n",
              "49915                 4              -2                    4   \n",
              "49916                 5              -2                    4   \n",
              "49917                 0               2                    5   \n",
              "49918                 6              -4                    3   \n",
              "49919                 3               1                    5   \n",
              "\n",
              "      cognitive_health_score environmental_exposure_score  \\\n",
              "0                         -1                            2   \n",
              "1                         -2                            3   \n",
              "2                          1                            2   \n",
              "3                          0                            3   \n",
              "4                          0                            0   \n",
              "...                      ...                          ...   \n",
              "49915                     -4                            1   \n",
              "49916                      1                            1   \n",
              "49917                      0                            2   \n",
              "49918                     -2                            2   \n",
              "49919                      1                            3   \n",
              "\n",
              "      sleep_mental_wellness_score  \n",
              "0                              -2  \n",
              "1                              -1  \n",
              "2                               0  \n",
              "3                              -1  \n",
              "4                               2  \n",
              "...                           ...  \n",
              "49915                          -3  \n",
              "49916                           0  \n",
              "49917                          -2  \n",
              "49918                          -3  \n",
              "49919                           0  \n",
              "\n",
              "[49920 rows x 32 columns]"
            ],
            "text/html": [
              "\n",
              "  <div id=\"df-77727d2b-0940-4ab7-97ac-689afec84009\" class=\"colab-df-container\">\n",
              "    <div>\n",
              "<style scoped>\n",
              "    .dataframe tbody tr th:only-of-type {\n",
              "        vertical-align: middle;\n",
              "    }\n",
              "\n",
              "    .dataframe tbody tr th {\n",
              "        vertical-align: top;\n",
              "    }\n",
              "\n",
              "    .dataframe thead th {\n",
              "        text-align: right;\n",
              "    }\n",
              "</style>\n",
              "<table border=\"1\" class=\"dataframe\">\n",
              "  <thead>\n",
              "    <tr style=\"text-align: right;\">\n",
              "      <th></th>\n",
              "      <th>index</th>\n",
              "      <th>Country</th>\n",
              "      <th>Age</th>\n",
              "      <th>Gender</th>\n",
              "      <th>Education_Level</th>\n",
              "      <th>BMI</th>\n",
              "      <th>Physical_Activity_Level</th>\n",
              "      <th>Smoking_Status</th>\n",
              "      <th>Alcohol_Consumption</th>\n",
              "      <th>Diabetes</th>\n",
              "      <th>...</th>\n",
              "      <th>Income_Level</th>\n",
              "      <th>Stress_Levels</th>\n",
              "      <th>Urban_vs_Rural_Living</th>\n",
              "      <th>gender_encoded</th>\n",
              "      <th>health_risk_score</th>\n",
              "      <th>lifestyle_index</th>\n",
              "      <th>social_support_score</th>\n",
              "      <th>cognitive_health_score</th>\n",
              "      <th>environmental_exposure_score</th>\n",
              "      <th>sleep_mental_wellness_score</th>\n",
              "    </tr>\n",
              "  </thead>\n",
              "  <tbody>\n",
              "    <tr>\n",
              "      <th>0</th>\n",
              "      <td>1</td>\n",
              "      <td>Argentina</td>\n",
              "      <td>72</td>\n",
              "      <td>Male</td>\n",
              "      <td>7</td>\n",
              "      <td>29.9</td>\n",
              "      <td>Medium</td>\n",
              "      <td>Former</td>\n",
              "      <td>Never</td>\n",
              "      <td>No</td>\n",
              "      <td>...</td>\n",
              "      <td>Low</td>\n",
              "      <td>High</td>\n",
              "      <td>Urban</td>\n",
              "      <td>0</td>\n",
              "      <td>2</td>\n",
              "      <td>0</td>\n",
              "      <td>6</td>\n",
              "      <td>-1</td>\n",
              "      <td>2</td>\n",
              "      <td>-2</td>\n",
              "    </tr>\n",
              "    <tr>\n",
              "      <th>1</th>\n",
              "      <td>6</td>\n",
              "      <td>South Korea</td>\n",
              "      <td>91</td>\n",
              "      <td>Female</td>\n",
              "      <td>18</td>\n",
              "      <td>24.1</td>\n",
              "      <td>High</td>\n",
              "      <td>Former</td>\n",
              "      <td>Occasionally</td>\n",
              "      <td>No</td>\n",
              "      <td>...</td>\n",
              "      <td>Low</td>\n",
              "      <td>Medium</td>\n",
              "      <td>Urban</td>\n",
              "      <td>1</td>\n",
              "      <td>3</td>\n",
              "      <td>-2</td>\n",
              "      <td>5</td>\n",
              "      <td>-2</td>\n",
              "      <td>3</td>\n",
              "      <td>-1</td>\n",
              "    </tr>\n",
              "    <tr>\n",
              "      <th>2</th>\n",
              "      <td>8</td>\n",
              "      <td>China</td>\n",
              "      <td>84</td>\n",
              "      <td>Female</td>\n",
              "      <td>11</td>\n",
              "      <td>22.0</td>\n",
              "      <td>High</td>\n",
              "      <td>Current</td>\n",
              "      <td>Regularly</td>\n",
              "      <td>No</td>\n",
              "      <td>...</td>\n",
              "      <td>Low</td>\n",
              "      <td>Low</td>\n",
              "      <td>Rural</td>\n",
              "      <td>1</td>\n",
              "      <td>5</td>\n",
              "      <td>-4</td>\n",
              "      <td>3</td>\n",
              "      <td>1</td>\n",
              "      <td>2</td>\n",
              "      <td>0</td>\n",
              "    </tr>\n",
              "    <tr>\n",
              "      <th>3</th>\n",
              "      <td>13</td>\n",
              "      <td>India</td>\n",
              "      <td>61</td>\n",
              "      <td>Male</td>\n",
              "      <td>15</td>\n",
              "      <td>22.9</td>\n",
              "      <td>High</td>\n",
              "      <td>Former</td>\n",
              "      <td>Regularly</td>\n",
              "      <td>No</td>\n",
              "      <td>...</td>\n",
              "      <td>High</td>\n",
              "      <td>High</td>\n",
              "      <td>Urban</td>\n",
              "      <td>0</td>\n",
              "      <td>3</td>\n",
              "      <td>-3</td>\n",
              "      <td>4</td>\n",
              "      <td>0</td>\n",
              "      <td>3</td>\n",
              "      <td>-1</td>\n",
              "    </tr>\n",
              "    <tr>\n",
              "      <th>4</th>\n",
              "      <td>15</td>\n",
              "      <td>Canada</td>\n",
              "      <td>53</td>\n",
              "      <td>Female</td>\n",
              "      <td>6</td>\n",
              "      <td>29.1</td>\n",
              "      <td>Low</td>\n",
              "      <td>Never</td>\n",
              "      <td>Occasionally</td>\n",
              "      <td>No</td>\n",
              "      <td>...</td>\n",
              "      <td>High</td>\n",
              "      <td>Low</td>\n",
              "      <td>Rural</td>\n",
              "      <td>1</td>\n",
              "      <td>3</td>\n",
              "      <td>1</td>\n",
              "      <td>4</td>\n",
              "      <td>0</td>\n",
              "      <td>0</td>\n",
              "      <td>2</td>\n",
              "    </tr>\n",
              "    <tr>\n",
              "      <th>...</th>\n",
              "      <td>...</td>\n",
              "      <td>...</td>\n",
              "      <td>...</td>\n",
              "      <td>...</td>\n",
              "      <td>...</td>\n",
              "      <td>...</td>\n",
              "      <td>...</td>\n",
              "      <td>...</td>\n",
              "      <td>...</td>\n",
              "      <td>...</td>\n",
              "      <td>...</td>\n",
              "      <td>...</td>\n",
              "      <td>...</td>\n",
              "      <td>...</td>\n",
              "      <td>...</td>\n",
              "      <td>...</td>\n",
              "      <td>...</td>\n",
              "      <td>...</td>\n",
              "      <td>...</td>\n",
              "      <td>...</td>\n",
              "      <td>...</td>\n",
              "    </tr>\n",
              "    <tr>\n",
              "      <th>49915</th>\n",
              "      <td>49904</td>\n",
              "      <td>Japan</td>\n",
              "      <td>76</td>\n",
              "      <td>Male</td>\n",
              "      <td>12</td>\n",
              "      <td>32.0</td>\n",
              "      <td>High</td>\n",
              "      <td>Current</td>\n",
              "      <td>Never</td>\n",
              "      <td>No</td>\n",
              "      <td>...</td>\n",
              "      <td>Medium</td>\n",
              "      <td>High</td>\n",
              "      <td>Rural</td>\n",
              "      <td>0</td>\n",
              "      <td>4</td>\n",
              "      <td>-2</td>\n",
              "      <td>4</td>\n",
              "      <td>-4</td>\n",
              "      <td>1</td>\n",
              "      <td>-3</td>\n",
              "    </tr>\n",
              "    <tr>\n",
              "      <th>49916</th>\n",
              "      <td>49907</td>\n",
              "      <td>Sweden</td>\n",
              "      <td>88</td>\n",
              "      <td>Female</td>\n",
              "      <td>12</td>\n",
              "      <td>27.6</td>\n",
              "      <td>High</td>\n",
              "      <td>Current</td>\n",
              "      <td>Never</td>\n",
              "      <td>No</td>\n",
              "      <td>...</td>\n",
              "      <td>Low</td>\n",
              "      <td>Medium</td>\n",
              "      <td>Rural</td>\n",
              "      <td>1</td>\n",
              "      <td>5</td>\n",
              "      <td>-2</td>\n",
              "      <td>4</td>\n",
              "      <td>1</td>\n",
              "      <td>1</td>\n",
              "      <td>0</td>\n",
              "    </tr>\n",
              "    <tr>\n",
              "      <th>49917</th>\n",
              "      <td>49908</td>\n",
              "      <td>Canada</td>\n",
              "      <td>68</td>\n",
              "      <td>Male</td>\n",
              "      <td>18</td>\n",
              "      <td>18.6</td>\n",
              "      <td>Low</td>\n",
              "      <td>Never</td>\n",
              "      <td>Never</td>\n",
              "      <td>No</td>\n",
              "      <td>...</td>\n",
              "      <td>High</td>\n",
              "      <td>Medium</td>\n",
              "      <td>Urban</td>\n",
              "      <td>0</td>\n",
              "      <td>0</td>\n",
              "      <td>2</td>\n",
              "      <td>5</td>\n",
              "      <td>0</td>\n",
              "      <td>2</td>\n",
              "      <td>-2</td>\n",
              "    </tr>\n",
              "    <tr>\n",
              "      <th>49918</th>\n",
              "      <td>49911</td>\n",
              "      <td>South Africa</td>\n",
              "      <td>53</td>\n",
              "      <td>Male</td>\n",
              "      <td>11</td>\n",
              "      <td>26.6</td>\n",
              "      <td>High</td>\n",
              "      <td>Current</td>\n",
              "      <td>Regularly</td>\n",
              "      <td>No</td>\n",
              "      <td>...</td>\n",
              "      <td>Medium</td>\n",
              "      <td>High</td>\n",
              "      <td>Rural</td>\n",
              "      <td>0</td>\n",
              "      <td>6</td>\n",
              "      <td>-4</td>\n",
              "      <td>3</td>\n",
              "      <td>-2</td>\n",
              "      <td>2</td>\n",
              "      <td>-3</td>\n",
              "    </tr>\n",
              "    <tr>\n",
              "      <th>49919</th>\n",
              "      <td>49913</td>\n",
              "      <td>France</td>\n",
              "      <td>60</td>\n",
              "      <td>Female</td>\n",
              "      <td>14</td>\n",
              "      <td>29.1</td>\n",
              "      <td>Low</td>\n",
              "      <td>Never</td>\n",
              "      <td>Occasionally</td>\n",
              "      <td>No</td>\n",
              "      <td>...</td>\n",
              "      <td>Low</td>\n",
              "      <td>Medium</td>\n",
              "      <td>Urban</td>\n",
              "      <td>1</td>\n",
              "      <td>3</td>\n",
              "      <td>1</td>\n",
              "      <td>5</td>\n",
              "      <td>1</td>\n",
              "      <td>3</td>\n",
              "      <td>0</td>\n",
              "    </tr>\n",
              "  </tbody>\n",
              "</table>\n",
              "<p>49920 rows × 32 columns</p>\n",
              "</div>\n",
              "    <div class=\"colab-df-buttons\">\n",
              "\n",
              "  <div class=\"colab-df-container\">\n",
              "    <button class=\"colab-df-convert\" onclick=\"convertToInteractive('df-77727d2b-0940-4ab7-97ac-689afec84009')\"\n",
              "            title=\"Convert this dataframe to an interactive table.\"\n",
              "            style=\"display:none;\">\n",
              "\n",
              "  <svg xmlns=\"http://www.w3.org/2000/svg\" height=\"24px\" viewBox=\"0 -960 960 960\">\n",
              "    <path d=\"M120-120v-720h720v720H120Zm60-500h600v-160H180v160Zm220 220h160v-160H400v160Zm0 220h160v-160H400v160ZM180-400h160v-160H180v160Zm440 0h160v-160H620v160ZM180-180h160v-160H180v160Zm440 0h160v-160H620v160Z\"/>\n",
              "  </svg>\n",
              "    </button>\n",
              "\n",
              "  <style>\n",
              "    .colab-df-container {\n",
              "      display:flex;\n",
              "      gap: 12px;\n",
              "    }\n",
              "\n",
              "    .colab-df-convert {\n",
              "      background-color: #E8F0FE;\n",
              "      border: none;\n",
              "      border-radius: 50%;\n",
              "      cursor: pointer;\n",
              "      display: none;\n",
              "      fill: #1967D2;\n",
              "      height: 32px;\n",
              "      padding: 0 0 0 0;\n",
              "      width: 32px;\n",
              "    }\n",
              "\n",
              "    .colab-df-convert:hover {\n",
              "      background-color: #E2EBFA;\n",
              "      box-shadow: 0px 1px 2px rgba(60, 64, 67, 0.3), 0px 1px 3px 1px rgba(60, 64, 67, 0.15);\n",
              "      fill: #174EA6;\n",
              "    }\n",
              "\n",
              "    .colab-df-buttons div {\n",
              "      margin-bottom: 4px;\n",
              "    }\n",
              "\n",
              "    [theme=dark] .colab-df-convert {\n",
              "      background-color: #3B4455;\n",
              "      fill: #D2E3FC;\n",
              "    }\n",
              "\n",
              "    [theme=dark] .colab-df-convert:hover {\n",
              "      background-color: #434B5C;\n",
              "      box-shadow: 0px 1px 3px 1px rgba(0, 0, 0, 0.15);\n",
              "      filter: drop-shadow(0px 1px 2px rgba(0, 0, 0, 0.3));\n",
              "      fill: #FFFFFF;\n",
              "    }\n",
              "  </style>\n",
              "\n",
              "    <script>\n",
              "      const buttonEl =\n",
              "        document.querySelector('#df-77727d2b-0940-4ab7-97ac-689afec84009 button.colab-df-convert');\n",
              "      buttonEl.style.display =\n",
              "        google.colab.kernel.accessAllowed ? 'block' : 'none';\n",
              "\n",
              "      async function convertToInteractive(key) {\n",
              "        const element = document.querySelector('#df-77727d2b-0940-4ab7-97ac-689afec84009');\n",
              "        const dataTable =\n",
              "          await google.colab.kernel.invokeFunction('convertToInteractive',\n",
              "                                                    [key], {});\n",
              "        if (!dataTable) return;\n",
              "\n",
              "        const docLinkHtml = 'Like what you see? Visit the ' +\n",
              "          '<a target=\"_blank\" href=https://colab.research.google.com/notebooks/data_table.ipynb>data table notebook</a>'\n",
              "          + ' to learn more about interactive tables.';\n",
              "        element.innerHTML = '';\n",
              "        dataTable['output_type'] = 'display_data';\n",
              "        await google.colab.output.renderOutput(dataTable, element);\n",
              "        const docLink = document.createElement('div');\n",
              "        docLink.innerHTML = docLinkHtml;\n",
              "        element.appendChild(docLink);\n",
              "      }\n",
              "    </script>\n",
              "  </div>\n",
              "\n",
              "\n",
              "<div id=\"df-0b3a5fa8-0c5f-49c6-8086-114215c05e57\">\n",
              "  <button class=\"colab-df-quickchart\" onclick=\"quickchart('df-0b3a5fa8-0c5f-49c6-8086-114215c05e57')\"\n",
              "            title=\"Suggest charts\"\n",
              "            style=\"display:none;\">\n",
              "\n",
              "<svg xmlns=\"http://www.w3.org/2000/svg\" height=\"24px\"viewBox=\"0 0 24 24\"\n",
              "     width=\"24px\">\n",
              "    <g>\n",
              "        <path d=\"M19 3H5c-1.1 0-2 .9-2 2v14c0 1.1.9 2 2 2h14c1.1 0 2-.9 2-2V5c0-1.1-.9-2-2-2zM9 17H7v-7h2v7zm4 0h-2V7h2v10zm4 0h-2v-4h2v4z\"/>\n",
              "    </g>\n",
              "</svg>\n",
              "  </button>\n",
              "\n",
              "<style>\n",
              "  .colab-df-quickchart {\n",
              "      --bg-color: #E8F0FE;\n",
              "      --fill-color: #1967D2;\n",
              "      --hover-bg-color: #E2EBFA;\n",
              "      --hover-fill-color: #174EA6;\n",
              "      --disabled-fill-color: #AAA;\n",
              "      --disabled-bg-color: #DDD;\n",
              "  }\n",
              "\n",
              "  [theme=dark] .colab-df-quickchart {\n",
              "      --bg-color: #3B4455;\n",
              "      --fill-color: #D2E3FC;\n",
              "      --hover-bg-color: #434B5C;\n",
              "      --hover-fill-color: #FFFFFF;\n",
              "      --disabled-bg-color: #3B4455;\n",
              "      --disabled-fill-color: #666;\n",
              "  }\n",
              "\n",
              "  .colab-df-quickchart {\n",
              "    background-color: var(--bg-color);\n",
              "    border: none;\n",
              "    border-radius: 50%;\n",
              "    cursor: pointer;\n",
              "    display: none;\n",
              "    fill: var(--fill-color);\n",
              "    height: 32px;\n",
              "    padding: 0;\n",
              "    width: 32px;\n",
              "  }\n",
              "\n",
              "  .colab-df-quickchart:hover {\n",
              "    background-color: var(--hover-bg-color);\n",
              "    box-shadow: 0 1px 2px rgba(60, 64, 67, 0.3), 0 1px 3px 1px rgba(60, 64, 67, 0.15);\n",
              "    fill: var(--button-hover-fill-color);\n",
              "  }\n",
              "\n",
              "  .colab-df-quickchart-complete:disabled,\n",
              "  .colab-df-quickchart-complete:disabled:hover {\n",
              "    background-color: var(--disabled-bg-color);\n",
              "    fill: var(--disabled-fill-color);\n",
              "    box-shadow: none;\n",
              "  }\n",
              "\n",
              "  .colab-df-spinner {\n",
              "    border: 2px solid var(--fill-color);\n",
              "    border-color: transparent;\n",
              "    border-bottom-color: var(--fill-color);\n",
              "    animation:\n",
              "      spin 1s steps(1) infinite;\n",
              "  }\n",
              "\n",
              "  @keyframes spin {\n",
              "    0% {\n",
              "      border-color: transparent;\n",
              "      border-bottom-color: var(--fill-color);\n",
              "      border-left-color: var(--fill-color);\n",
              "    }\n",
              "    20% {\n",
              "      border-color: transparent;\n",
              "      border-left-color: var(--fill-color);\n",
              "      border-top-color: var(--fill-color);\n",
              "    }\n",
              "    30% {\n",
              "      border-color: transparent;\n",
              "      border-left-color: var(--fill-color);\n",
              "      border-top-color: var(--fill-color);\n",
              "      border-right-color: var(--fill-color);\n",
              "    }\n",
              "    40% {\n",
              "      border-color: transparent;\n",
              "      border-right-color: var(--fill-color);\n",
              "      border-top-color: var(--fill-color);\n",
              "    }\n",
              "    60% {\n",
              "      border-color: transparent;\n",
              "      border-right-color: var(--fill-color);\n",
              "    }\n",
              "    80% {\n",
              "      border-color: transparent;\n",
              "      border-right-color: var(--fill-color);\n",
              "      border-bottom-color: var(--fill-color);\n",
              "    }\n",
              "    90% {\n",
              "      border-color: transparent;\n",
              "      border-bottom-color: var(--fill-color);\n",
              "    }\n",
              "  }\n",
              "</style>\n",
              "\n",
              "  <script>\n",
              "    async function quickchart(key) {\n",
              "      const quickchartButtonEl =\n",
              "        document.querySelector('#' + key + ' button');\n",
              "      quickchartButtonEl.disabled = true;  // To prevent multiple clicks.\n",
              "      quickchartButtonEl.classList.add('colab-df-spinner');\n",
              "      try {\n",
              "        const charts = await google.colab.kernel.invokeFunction(\n",
              "            'suggestCharts', [key], {});\n",
              "      } catch (error) {\n",
              "        console.error('Error during call to suggestCharts:', error);\n",
              "      }\n",
              "      quickchartButtonEl.classList.remove('colab-df-spinner');\n",
              "      quickchartButtonEl.classList.add('colab-df-quickchart-complete');\n",
              "    }\n",
              "    (() => {\n",
              "      let quickchartButtonEl =\n",
              "        document.querySelector('#df-0b3a5fa8-0c5f-49c6-8086-114215c05e57 button');\n",
              "      quickchartButtonEl.style.display =\n",
              "        google.colab.kernel.accessAllowed ? 'block' : 'none';\n",
              "    })();\n",
              "  </script>\n",
              "</div>\n",
              "\n",
              "    </div>\n",
              "  </div>\n"
            ],
            "application/vnd.google.colaboratory.intrinsic+json": {
              "type": "dataframe"
            }
          },
          "metadata": {},
          "execution_count": 35
        }
      ]
    },
    {
      "cell_type": "markdown",
      "source": [
        "The following cell shows how to define an aggregation-based feature using the **create_aggregate_features** function. It returns a dataframe with all the original columns, and another column which, on a high-level is defined as ```SELECT operation(column_to_operate) OVER (PARTITION BY column_to_group ORDER BY time_column RANGE BETWEEN INTERVAL window_duration PRECEDING AND CURRENT ROW) as new_feature_name from dataframe```."
      ],
      "id": "20",
      "metadata": {
        "id": "20"
      }
    },
    {
      "cell_type": "markdown",
      "source": [
        "### Submit feature definitions\n",
        "\n",
        "Now that we've seen the newly created features, and everything looks good, we can submit these feature definitions to the TurboML platform so that this can be computed continously for the input data stream."
      ],
      "id": "23",
      "metadata": {
        "id": "23"
      }
    },
    {
      "cell_type": "markdown",
      "source": [
        "We need to tell the platform to start computations for all pending features for the given dataset. This can be done by calling the **materialize_features** function."
      ],
      "id": "24",
      "metadata": {
        "id": "24"
      }
    },
    {
      "cell_type": "code",
      "source": [
        "# transactions.feature_engineering.materialize_features([\"my_sql_feat\", \"my_sum_feat\"])\n",
        "\n",
        "# Submit all the created features for continuous computation\n",
        "transactions.feature_engineering.materialize_features([\n",
        "    \"health_risk_score\",\n",
        "    \"lifestyle_index\",\n",
        "    \"social_support_score\",\n",
        "    \"cognitive_health_score\",\n",
        "    \"environmental_exposure_score\",\n",
        "    \"sleep_mental_wellness_score\"\n",
        "])\n",
        "\n",
        "\n"
      ],
      "execution_count": 40,
      "id": "25",
      "metadata": {
        "id": "25"
      },
      "outputs": []
    },
    {
      "cell_type": "code",
      "source": [
        "# Retrieve the materialized features\n",
        "df_transactions = transactions.feature_engineering.get_materialized_features()\n",
        "df_transactions"
      ],
      "metadata": {
        "colab": {
          "base_uri": "https://localhost:8080/",
          "height": 478
        },
        "id": "mRSrx1b5FCT0",
        "outputId": "511fe27a-82b3-457e-ef34-3c2a2aded5bf"
      },
      "id": "mRSrx1b5FCT0",
      "execution_count": 112,
      "outputs": [
        {
          "output_type": "execute_result",
          "data": {
            "text/plain": [
              "       index       Country  Age  Gender  Education_Level   BMI  \\\n",
              "0          1     Argentina   72    Male                7  29.9   \n",
              "1          6   South Korea   91  Female               18  24.1   \n",
              "2          8         China   84  Female               11  22.0   \n",
              "3         13         India   61    Male               15  22.9   \n",
              "4         15        Canada   53  Female                6  29.1   \n",
              "...      ...           ...  ...     ...              ...   ...   \n",
              "74278  74272            UK   80    Male               18  26.1   \n",
              "74279  74274  Saudi Arabia   89  Female                6  32.7   \n",
              "74280  74277         Spain   50  Female               12  19.3   \n",
              "74281  74279            UK   58    Male               18  30.6   \n",
              "74282  74281        Brazil   73  Female                7  29.0   \n",
              "\n",
              "      Physical_Activity_Level Smoking_Status Alcohol_Consumption Diabetes  \\\n",
              "0                      Medium         Former               Never       No   \n",
              "1                        High         Former        Occasionally       No   \n",
              "2                        High        Current           Regularly       No   \n",
              "3                        High         Former           Regularly       No   \n",
              "4                         Low          Never        Occasionally       No   \n",
              "...                       ...            ...                 ...      ...   \n",
              "74278                    High         Former        Occasionally       No   \n",
              "74279                     Low         Former        Occasionally       No   \n",
              "74280                     Low          Never               Never       No   \n",
              "74281                     Low          Never        Occasionally      Yes   \n",
              "74282                     Low          Never           Regularly       No   \n",
              "\n",
              "       ... Social_Engagement_Level Income_Level Stress_Levels  \\\n",
              "0      ...                    High          Low          High   \n",
              "1      ...                    High          Low        Medium   \n",
              "2      ...                  Medium          Low           Low   \n",
              "3      ...                  Medium         High          High   \n",
              "4      ...                  Medium         High           Low   \n",
              "...    ...                     ...          ...           ...   \n",
              "74278  ...                  Medium         High           Low   \n",
              "74279  ...                     Low         High        Medium   \n",
              "74280  ...                     Low         High           Low   \n",
              "74281  ...                  Medium         High          High   \n",
              "74282  ...                     Low          Low          High   \n",
              "\n",
              "       Urban_vs_Rural_Living health_risk_score lifestyle_index  \\\n",
              "0                      Urban                 2               0   \n",
              "1                      Urban                 3              -2   \n",
              "2                      Rural                 5              -4   \n",
              "3                      Urban                 3              -3   \n",
              "4                      Rural                 3               1   \n",
              "...                      ...               ...             ...   \n",
              "74278                  Urban                 3              -2   \n",
              "74279                  Urban                 4               0   \n",
              "74280                  Rural                 1               2   \n",
              "74281                  Rural                 4               1   \n",
              "74282                  Rural                 4               0   \n",
              "\n",
              "      social_support_score cognitive_health_score  \\\n",
              "0                        6                     -1   \n",
              "1                        5                     -2   \n",
              "2                        3                      1   \n",
              "3                        4                      0   \n",
              "4                        4                      0   \n",
              "...                    ...                    ...   \n",
              "74278                    5                      0   \n",
              "74279                    5                     -2   \n",
              "74280                    5                      0   \n",
              "74281                    6                     -2   \n",
              "74282                    3                     -2   \n",
              "\n",
              "      environmental_exposure_score sleep_mental_wellness_score  \n",
              "0                                2                          -2  \n",
              "1                                3                          -1  \n",
              "2                                2                           0  \n",
              "3                                3                          -1  \n",
              "4                                0                           2  \n",
              "...                            ...                         ...  \n",
              "74278                            3                          -1  \n",
              "74279                            3                          -1  \n",
              "74280                            1                           0  \n",
              "74281                            1                           0  \n",
              "74282                            0                          -4  \n",
              "\n",
              "[74283 rows x 31 columns]"
            ],
            "text/html": [
              "\n",
              "  <div id=\"df-cafcdbe5-a812-4f65-bd67-ea1d7e63ea26\" class=\"colab-df-container\">\n",
              "    <div>\n",
              "<style scoped>\n",
              "    .dataframe tbody tr th:only-of-type {\n",
              "        vertical-align: middle;\n",
              "    }\n",
              "\n",
              "    .dataframe tbody tr th {\n",
              "        vertical-align: top;\n",
              "    }\n",
              "\n",
              "    .dataframe thead th {\n",
              "        text-align: right;\n",
              "    }\n",
              "</style>\n",
              "<table border=\"1\" class=\"dataframe\">\n",
              "  <thead>\n",
              "    <tr style=\"text-align: right;\">\n",
              "      <th></th>\n",
              "      <th>index</th>\n",
              "      <th>Country</th>\n",
              "      <th>Age</th>\n",
              "      <th>Gender</th>\n",
              "      <th>Education_Level</th>\n",
              "      <th>BMI</th>\n",
              "      <th>Physical_Activity_Level</th>\n",
              "      <th>Smoking_Status</th>\n",
              "      <th>Alcohol_Consumption</th>\n",
              "      <th>Diabetes</th>\n",
              "      <th>...</th>\n",
              "      <th>Social_Engagement_Level</th>\n",
              "      <th>Income_Level</th>\n",
              "      <th>Stress_Levels</th>\n",
              "      <th>Urban_vs_Rural_Living</th>\n",
              "      <th>health_risk_score</th>\n",
              "      <th>lifestyle_index</th>\n",
              "      <th>social_support_score</th>\n",
              "      <th>cognitive_health_score</th>\n",
              "      <th>environmental_exposure_score</th>\n",
              "      <th>sleep_mental_wellness_score</th>\n",
              "    </tr>\n",
              "  </thead>\n",
              "  <tbody>\n",
              "    <tr>\n",
              "      <th>0</th>\n",
              "      <td>1</td>\n",
              "      <td>Argentina</td>\n",
              "      <td>72</td>\n",
              "      <td>Male</td>\n",
              "      <td>7</td>\n",
              "      <td>29.9</td>\n",
              "      <td>Medium</td>\n",
              "      <td>Former</td>\n",
              "      <td>Never</td>\n",
              "      <td>No</td>\n",
              "      <td>...</td>\n",
              "      <td>High</td>\n",
              "      <td>Low</td>\n",
              "      <td>High</td>\n",
              "      <td>Urban</td>\n",
              "      <td>2</td>\n",
              "      <td>0</td>\n",
              "      <td>6</td>\n",
              "      <td>-1</td>\n",
              "      <td>2</td>\n",
              "      <td>-2</td>\n",
              "    </tr>\n",
              "    <tr>\n",
              "      <th>1</th>\n",
              "      <td>6</td>\n",
              "      <td>South Korea</td>\n",
              "      <td>91</td>\n",
              "      <td>Female</td>\n",
              "      <td>18</td>\n",
              "      <td>24.1</td>\n",
              "      <td>High</td>\n",
              "      <td>Former</td>\n",
              "      <td>Occasionally</td>\n",
              "      <td>No</td>\n",
              "      <td>...</td>\n",
              "      <td>High</td>\n",
              "      <td>Low</td>\n",
              "      <td>Medium</td>\n",
              "      <td>Urban</td>\n",
              "      <td>3</td>\n",
              "      <td>-2</td>\n",
              "      <td>5</td>\n",
              "      <td>-2</td>\n",
              "      <td>3</td>\n",
              "      <td>-1</td>\n",
              "    </tr>\n",
              "    <tr>\n",
              "      <th>2</th>\n",
              "      <td>8</td>\n",
              "      <td>China</td>\n",
              "      <td>84</td>\n",
              "      <td>Female</td>\n",
              "      <td>11</td>\n",
              "      <td>22.0</td>\n",
              "      <td>High</td>\n",
              "      <td>Current</td>\n",
              "      <td>Regularly</td>\n",
              "      <td>No</td>\n",
              "      <td>...</td>\n",
              "      <td>Medium</td>\n",
              "      <td>Low</td>\n",
              "      <td>Low</td>\n",
              "      <td>Rural</td>\n",
              "      <td>5</td>\n",
              "      <td>-4</td>\n",
              "      <td>3</td>\n",
              "      <td>1</td>\n",
              "      <td>2</td>\n",
              "      <td>0</td>\n",
              "    </tr>\n",
              "    <tr>\n",
              "      <th>3</th>\n",
              "      <td>13</td>\n",
              "      <td>India</td>\n",
              "      <td>61</td>\n",
              "      <td>Male</td>\n",
              "      <td>15</td>\n",
              "      <td>22.9</td>\n",
              "      <td>High</td>\n",
              "      <td>Former</td>\n",
              "      <td>Regularly</td>\n",
              "      <td>No</td>\n",
              "      <td>...</td>\n",
              "      <td>Medium</td>\n",
              "      <td>High</td>\n",
              "      <td>High</td>\n",
              "      <td>Urban</td>\n",
              "      <td>3</td>\n",
              "      <td>-3</td>\n",
              "      <td>4</td>\n",
              "      <td>0</td>\n",
              "      <td>3</td>\n",
              "      <td>-1</td>\n",
              "    </tr>\n",
              "    <tr>\n",
              "      <th>4</th>\n",
              "      <td>15</td>\n",
              "      <td>Canada</td>\n",
              "      <td>53</td>\n",
              "      <td>Female</td>\n",
              "      <td>6</td>\n",
              "      <td>29.1</td>\n",
              "      <td>Low</td>\n",
              "      <td>Never</td>\n",
              "      <td>Occasionally</td>\n",
              "      <td>No</td>\n",
              "      <td>...</td>\n",
              "      <td>Medium</td>\n",
              "      <td>High</td>\n",
              "      <td>Low</td>\n",
              "      <td>Rural</td>\n",
              "      <td>3</td>\n",
              "      <td>1</td>\n",
              "      <td>4</td>\n",
              "      <td>0</td>\n",
              "      <td>0</td>\n",
              "      <td>2</td>\n",
              "    </tr>\n",
              "    <tr>\n",
              "      <th>...</th>\n",
              "      <td>...</td>\n",
              "      <td>...</td>\n",
              "      <td>...</td>\n",
              "      <td>...</td>\n",
              "      <td>...</td>\n",
              "      <td>...</td>\n",
              "      <td>...</td>\n",
              "      <td>...</td>\n",
              "      <td>...</td>\n",
              "      <td>...</td>\n",
              "      <td>...</td>\n",
              "      <td>...</td>\n",
              "      <td>...</td>\n",
              "      <td>...</td>\n",
              "      <td>...</td>\n",
              "      <td>...</td>\n",
              "      <td>...</td>\n",
              "      <td>...</td>\n",
              "      <td>...</td>\n",
              "      <td>...</td>\n",
              "      <td>...</td>\n",
              "    </tr>\n",
              "    <tr>\n",
              "      <th>74278</th>\n",
              "      <td>74272</td>\n",
              "      <td>UK</td>\n",
              "      <td>80</td>\n",
              "      <td>Male</td>\n",
              "      <td>18</td>\n",
              "      <td>26.1</td>\n",
              "      <td>High</td>\n",
              "      <td>Former</td>\n",
              "      <td>Occasionally</td>\n",
              "      <td>No</td>\n",
              "      <td>...</td>\n",
              "      <td>Medium</td>\n",
              "      <td>High</td>\n",
              "      <td>Low</td>\n",
              "      <td>Urban</td>\n",
              "      <td>3</td>\n",
              "      <td>-2</td>\n",
              "      <td>5</td>\n",
              "      <td>0</td>\n",
              "      <td>3</td>\n",
              "      <td>-1</td>\n",
              "    </tr>\n",
              "    <tr>\n",
              "      <th>74279</th>\n",
              "      <td>74274</td>\n",
              "      <td>Saudi Arabia</td>\n",
              "      <td>89</td>\n",
              "      <td>Female</td>\n",
              "      <td>6</td>\n",
              "      <td>32.7</td>\n",
              "      <td>Low</td>\n",
              "      <td>Former</td>\n",
              "      <td>Occasionally</td>\n",
              "      <td>No</td>\n",
              "      <td>...</td>\n",
              "      <td>Low</td>\n",
              "      <td>High</td>\n",
              "      <td>Medium</td>\n",
              "      <td>Urban</td>\n",
              "      <td>4</td>\n",
              "      <td>0</td>\n",
              "      <td>5</td>\n",
              "      <td>-2</td>\n",
              "      <td>3</td>\n",
              "      <td>-1</td>\n",
              "    </tr>\n",
              "    <tr>\n",
              "      <th>74280</th>\n",
              "      <td>74277</td>\n",
              "      <td>Spain</td>\n",
              "      <td>50</td>\n",
              "      <td>Female</td>\n",
              "      <td>12</td>\n",
              "      <td>19.3</td>\n",
              "      <td>Low</td>\n",
              "      <td>Never</td>\n",
              "      <td>Never</td>\n",
              "      <td>No</td>\n",
              "      <td>...</td>\n",
              "      <td>Low</td>\n",
              "      <td>High</td>\n",
              "      <td>Low</td>\n",
              "      <td>Rural</td>\n",
              "      <td>1</td>\n",
              "      <td>2</td>\n",
              "      <td>5</td>\n",
              "      <td>0</td>\n",
              "      <td>1</td>\n",
              "      <td>0</td>\n",
              "    </tr>\n",
              "    <tr>\n",
              "      <th>74281</th>\n",
              "      <td>74279</td>\n",
              "      <td>UK</td>\n",
              "      <td>58</td>\n",
              "      <td>Male</td>\n",
              "      <td>18</td>\n",
              "      <td>30.6</td>\n",
              "      <td>Low</td>\n",
              "      <td>Never</td>\n",
              "      <td>Occasionally</td>\n",
              "      <td>Yes</td>\n",
              "      <td>...</td>\n",
              "      <td>Medium</td>\n",
              "      <td>High</td>\n",
              "      <td>High</td>\n",
              "      <td>Rural</td>\n",
              "      <td>4</td>\n",
              "      <td>1</td>\n",
              "      <td>6</td>\n",
              "      <td>-2</td>\n",
              "      <td>1</td>\n",
              "      <td>0</td>\n",
              "    </tr>\n",
              "    <tr>\n",
              "      <th>74282</th>\n",
              "      <td>74281</td>\n",
              "      <td>Brazil</td>\n",
              "      <td>73</td>\n",
              "      <td>Female</td>\n",
              "      <td>7</td>\n",
              "      <td>29.0</td>\n",
              "      <td>Low</td>\n",
              "      <td>Never</td>\n",
              "      <td>Regularly</td>\n",
              "      <td>No</td>\n",
              "      <td>...</td>\n",
              "      <td>Low</td>\n",
              "      <td>Low</td>\n",
              "      <td>High</td>\n",
              "      <td>Rural</td>\n",
              "      <td>4</td>\n",
              "      <td>0</td>\n",
              "      <td>3</td>\n",
              "      <td>-2</td>\n",
              "      <td>0</td>\n",
              "      <td>-4</td>\n",
              "    </tr>\n",
              "  </tbody>\n",
              "</table>\n",
              "<p>74283 rows × 31 columns</p>\n",
              "</div>\n",
              "    <div class=\"colab-df-buttons\">\n",
              "\n",
              "  <div class=\"colab-df-container\">\n",
              "    <button class=\"colab-df-convert\" onclick=\"convertToInteractive('df-cafcdbe5-a812-4f65-bd67-ea1d7e63ea26')\"\n",
              "            title=\"Convert this dataframe to an interactive table.\"\n",
              "            style=\"display:none;\">\n",
              "\n",
              "  <svg xmlns=\"http://www.w3.org/2000/svg\" height=\"24px\" viewBox=\"0 -960 960 960\">\n",
              "    <path d=\"M120-120v-720h720v720H120Zm60-500h600v-160H180v160Zm220 220h160v-160H400v160Zm0 220h160v-160H400v160ZM180-400h160v-160H180v160Zm440 0h160v-160H620v160ZM180-180h160v-160H180v160Zm440 0h160v-160H620v160Z\"/>\n",
              "  </svg>\n",
              "    </button>\n",
              "\n",
              "  <style>\n",
              "    .colab-df-container {\n",
              "      display:flex;\n",
              "      gap: 12px;\n",
              "    }\n",
              "\n",
              "    .colab-df-convert {\n",
              "      background-color: #E8F0FE;\n",
              "      border: none;\n",
              "      border-radius: 50%;\n",
              "      cursor: pointer;\n",
              "      display: none;\n",
              "      fill: #1967D2;\n",
              "      height: 32px;\n",
              "      padding: 0 0 0 0;\n",
              "      width: 32px;\n",
              "    }\n",
              "\n",
              "    .colab-df-convert:hover {\n",
              "      background-color: #E2EBFA;\n",
              "      box-shadow: 0px 1px 2px rgba(60, 64, 67, 0.3), 0px 1px 3px 1px rgba(60, 64, 67, 0.15);\n",
              "      fill: #174EA6;\n",
              "    }\n",
              "\n",
              "    .colab-df-buttons div {\n",
              "      margin-bottom: 4px;\n",
              "    }\n",
              "\n",
              "    [theme=dark] .colab-df-convert {\n",
              "      background-color: #3B4455;\n",
              "      fill: #D2E3FC;\n",
              "    }\n",
              "\n",
              "    [theme=dark] .colab-df-convert:hover {\n",
              "      background-color: #434B5C;\n",
              "      box-shadow: 0px 1px 3px 1px rgba(0, 0, 0, 0.15);\n",
              "      filter: drop-shadow(0px 1px 2px rgba(0, 0, 0, 0.3));\n",
              "      fill: #FFFFFF;\n",
              "    }\n",
              "  </style>\n",
              "\n",
              "    <script>\n",
              "      const buttonEl =\n",
              "        document.querySelector('#df-cafcdbe5-a812-4f65-bd67-ea1d7e63ea26 button.colab-df-convert');\n",
              "      buttonEl.style.display =\n",
              "        google.colab.kernel.accessAllowed ? 'block' : 'none';\n",
              "\n",
              "      async function convertToInteractive(key) {\n",
              "        const element = document.querySelector('#df-cafcdbe5-a812-4f65-bd67-ea1d7e63ea26');\n",
              "        const dataTable =\n",
              "          await google.colab.kernel.invokeFunction('convertToInteractive',\n",
              "                                                    [key], {});\n",
              "        if (!dataTable) return;\n",
              "\n",
              "        const docLinkHtml = 'Like what you see? Visit the ' +\n",
              "          '<a target=\"_blank\" href=https://colab.research.google.com/notebooks/data_table.ipynb>data table notebook</a>'\n",
              "          + ' to learn more about interactive tables.';\n",
              "        element.innerHTML = '';\n",
              "        dataTable['output_type'] = 'display_data';\n",
              "        await google.colab.output.renderOutput(dataTable, element);\n",
              "        const docLink = document.createElement('div');\n",
              "        docLink.innerHTML = docLinkHtml;\n",
              "        element.appendChild(docLink);\n",
              "      }\n",
              "    </script>\n",
              "  </div>\n",
              "\n",
              "\n",
              "<div id=\"df-0007c581-1595-493d-b8e1-6381f8e9e972\">\n",
              "  <button class=\"colab-df-quickchart\" onclick=\"quickchart('df-0007c581-1595-493d-b8e1-6381f8e9e972')\"\n",
              "            title=\"Suggest charts\"\n",
              "            style=\"display:none;\">\n",
              "\n",
              "<svg xmlns=\"http://www.w3.org/2000/svg\" height=\"24px\"viewBox=\"0 0 24 24\"\n",
              "     width=\"24px\">\n",
              "    <g>\n",
              "        <path d=\"M19 3H5c-1.1 0-2 .9-2 2v14c0 1.1.9 2 2 2h14c1.1 0 2-.9 2-2V5c0-1.1-.9-2-2-2zM9 17H7v-7h2v7zm4 0h-2V7h2v10zm4 0h-2v-4h2v4z\"/>\n",
              "    </g>\n",
              "</svg>\n",
              "  </button>\n",
              "\n",
              "<style>\n",
              "  .colab-df-quickchart {\n",
              "      --bg-color: #E8F0FE;\n",
              "      --fill-color: #1967D2;\n",
              "      --hover-bg-color: #E2EBFA;\n",
              "      --hover-fill-color: #174EA6;\n",
              "      --disabled-fill-color: #AAA;\n",
              "      --disabled-bg-color: #DDD;\n",
              "  }\n",
              "\n",
              "  [theme=dark] .colab-df-quickchart {\n",
              "      --bg-color: #3B4455;\n",
              "      --fill-color: #D2E3FC;\n",
              "      --hover-bg-color: #434B5C;\n",
              "      --hover-fill-color: #FFFFFF;\n",
              "      --disabled-bg-color: #3B4455;\n",
              "      --disabled-fill-color: #666;\n",
              "  }\n",
              "\n",
              "  .colab-df-quickchart {\n",
              "    background-color: var(--bg-color);\n",
              "    border: none;\n",
              "    border-radius: 50%;\n",
              "    cursor: pointer;\n",
              "    display: none;\n",
              "    fill: var(--fill-color);\n",
              "    height: 32px;\n",
              "    padding: 0;\n",
              "    width: 32px;\n",
              "  }\n",
              "\n",
              "  .colab-df-quickchart:hover {\n",
              "    background-color: var(--hover-bg-color);\n",
              "    box-shadow: 0 1px 2px rgba(60, 64, 67, 0.3), 0 1px 3px 1px rgba(60, 64, 67, 0.15);\n",
              "    fill: var(--button-hover-fill-color);\n",
              "  }\n",
              "\n",
              "  .colab-df-quickchart-complete:disabled,\n",
              "  .colab-df-quickchart-complete:disabled:hover {\n",
              "    background-color: var(--disabled-bg-color);\n",
              "    fill: var(--disabled-fill-color);\n",
              "    box-shadow: none;\n",
              "  }\n",
              "\n",
              "  .colab-df-spinner {\n",
              "    border: 2px solid var(--fill-color);\n",
              "    border-color: transparent;\n",
              "    border-bottom-color: var(--fill-color);\n",
              "    animation:\n",
              "      spin 1s steps(1) infinite;\n",
              "  }\n",
              "\n",
              "  @keyframes spin {\n",
              "    0% {\n",
              "      border-color: transparent;\n",
              "      border-bottom-color: var(--fill-color);\n",
              "      border-left-color: var(--fill-color);\n",
              "    }\n",
              "    20% {\n",
              "      border-color: transparent;\n",
              "      border-left-color: var(--fill-color);\n",
              "      border-top-color: var(--fill-color);\n",
              "    }\n",
              "    30% {\n",
              "      border-color: transparent;\n",
              "      border-left-color: var(--fill-color);\n",
              "      border-top-color: var(--fill-color);\n",
              "      border-right-color: var(--fill-color);\n",
              "    }\n",
              "    40% {\n",
              "      border-color: transparent;\n",
              "      border-right-color: var(--fill-color);\n",
              "      border-top-color: var(--fill-color);\n",
              "    }\n",
              "    60% {\n",
              "      border-color: transparent;\n",
              "      border-right-color: var(--fill-color);\n",
              "    }\n",
              "    80% {\n",
              "      border-color: transparent;\n",
              "      border-right-color: var(--fill-color);\n",
              "      border-bottom-color: var(--fill-color);\n",
              "    }\n",
              "    90% {\n",
              "      border-color: transparent;\n",
              "      border-bottom-color: var(--fill-color);\n",
              "    }\n",
              "  }\n",
              "</style>\n",
              "\n",
              "  <script>\n",
              "    async function quickchart(key) {\n",
              "      const quickchartButtonEl =\n",
              "        document.querySelector('#' + key + ' button');\n",
              "      quickchartButtonEl.disabled = true;  // To prevent multiple clicks.\n",
              "      quickchartButtonEl.classList.add('colab-df-spinner');\n",
              "      try {\n",
              "        const charts = await google.colab.kernel.invokeFunction(\n",
              "            'suggestCharts', [key], {});\n",
              "      } catch (error) {\n",
              "        console.error('Error during call to suggestCharts:', error);\n",
              "      }\n",
              "      quickchartButtonEl.classList.remove('colab-df-spinner');\n",
              "      quickchartButtonEl.classList.add('colab-df-quickchart-complete');\n",
              "    }\n",
              "    (() => {\n",
              "      let quickchartButtonEl =\n",
              "        document.querySelector('#df-0007c581-1595-493d-b8e1-6381f8e9e972 button');\n",
              "      quickchartButtonEl.style.display =\n",
              "        google.colab.kernel.accessAllowed ? 'block' : 'none';\n",
              "    })();\n",
              "  </script>\n",
              "</div>\n",
              "\n",
              "  <div id=\"id_2b68f179-dfd1-4e88-95b8-1975bbd2ccbe\">\n",
              "    <style>\n",
              "      .colab-df-generate {\n",
              "        background-color: #E8F0FE;\n",
              "        border: none;\n",
              "        border-radius: 50%;\n",
              "        cursor: pointer;\n",
              "        display: none;\n",
              "        fill: #1967D2;\n",
              "        height: 32px;\n",
              "        padding: 0 0 0 0;\n",
              "        width: 32px;\n",
              "      }\n",
              "\n",
              "      .colab-df-generate:hover {\n",
              "        background-color: #E2EBFA;\n",
              "        box-shadow: 0px 1px 2px rgba(60, 64, 67, 0.3), 0px 1px 3px 1px rgba(60, 64, 67, 0.15);\n",
              "        fill: #174EA6;\n",
              "      }\n",
              "\n",
              "      [theme=dark] .colab-df-generate {\n",
              "        background-color: #3B4455;\n",
              "        fill: #D2E3FC;\n",
              "      }\n",
              "\n",
              "      [theme=dark] .colab-df-generate:hover {\n",
              "        background-color: #434B5C;\n",
              "        box-shadow: 0px 1px 3px 1px rgba(0, 0, 0, 0.15);\n",
              "        filter: drop-shadow(0px 1px 2px rgba(0, 0, 0, 0.3));\n",
              "        fill: #FFFFFF;\n",
              "      }\n",
              "    </style>\n",
              "    <button class=\"colab-df-generate\" onclick=\"generateWithVariable('df_transactions')\"\n",
              "            title=\"Generate code using this dataframe.\"\n",
              "            style=\"display:none;\">\n",
              "\n",
              "  <svg xmlns=\"http://www.w3.org/2000/svg\" height=\"24px\"viewBox=\"0 0 24 24\"\n",
              "       width=\"24px\">\n",
              "    <path d=\"M7,19H8.4L18.45,9,17,7.55,7,17.6ZM5,21V16.75L18.45,3.32a2,2,0,0,1,2.83,0l1.4,1.43a1.91,1.91,0,0,1,.58,1.4,1.91,1.91,0,0,1-.58,1.4L9.25,21ZM18.45,9,17,7.55Zm-12,3A5.31,5.31,0,0,0,4.9,8.1,5.31,5.31,0,0,0,1,6.5,5.31,5.31,0,0,0,4.9,4.9,5.31,5.31,0,0,0,6.5,1,5.31,5.31,0,0,0,8.1,4.9,5.31,5.31,0,0,0,12,6.5,5.46,5.46,0,0,0,6.5,12Z\"/>\n",
              "  </svg>\n",
              "    </button>\n",
              "    <script>\n",
              "      (() => {\n",
              "      const buttonEl =\n",
              "        document.querySelector('#id_2b68f179-dfd1-4e88-95b8-1975bbd2ccbe button.colab-df-generate');\n",
              "      buttonEl.style.display =\n",
              "        google.colab.kernel.accessAllowed ? 'block' : 'none';\n",
              "\n",
              "      buttonEl.onclick = () => {\n",
              "        google.colab.notebook.generateWithVariable('df_transactions');\n",
              "      }\n",
              "      })();\n",
              "    </script>\n",
              "  </div>\n",
              "\n",
              "    </div>\n",
              "  </div>\n"
            ],
            "application/vnd.google.colaboratory.intrinsic+json": {
              "type": "dataframe",
              "variable_name": "df_transactions"
            }
          },
          "metadata": {},
          "execution_count": 112
        }
      ]
    },
    {
      "cell_type": "code",
      "source": [
        "df_transactions.columns"
      ],
      "metadata": {
        "colab": {
          "base_uri": "https://localhost:8080/"
        },
        "id": "sUnYC23THcfU",
        "outputId": "08fa5474-469b-4fb8-fbbe-c59584884cac"
      },
      "id": "sUnYC23THcfU",
      "execution_count": 111,
      "outputs": [
        {
          "output_type": "execute_result",
          "data": {
            "text/plain": [
              "Index(['index', 'Country', 'Age', 'Gender', 'Education_Level', 'BMI',\n",
              "       'Physical_Activity_Level', 'Smoking_Status', 'Alcohol_Consumption',\n",
              "       'Diabetes', 'Hypertension', 'Cholesterol_Level',\n",
              "       'Family_History_of_Alzheimers', 'Cognitive_Test_Score',\n",
              "       'Depression_Level', 'Sleep_Quality', 'Dietary_Habits',\n",
              "       'Air_Pollution_Exposure', 'Employment_Status', 'Marital_Status',\n",
              "       'Genetic_Risk_Factor', 'Social_Engagement_Level', 'Income_Level',\n",
              "       'Stress_Levels', 'Urban_vs_Rural_Living', 'health_risk_score',\n",
              "       'lifestyle_index', 'social_support_score', 'cognitive_health_score',\n",
              "       'environmental_exposure_score', 'sleep_mental_wellness_score'],\n",
              "      dtype='object')"
            ]
          },
          "metadata": {},
          "execution_count": 111
        }
      ]
    },
    {
      "cell_type": "markdown",
      "source": [
        "## Machine Learning Modelling\n",
        "\n",
        "TurboML provides out of the box algorithms, optimized for real-time ML, and supports bringing your own models and algorithms as well. In this tutorial, we'll use the algorithms provided by TurboML."
      ],
      "id": "27",
      "metadata": {
        "id": "27"
      }
    },
    {
      "cell_type": "markdown",
      "source": [
        "### Check the available algorithms\n",
        "\n",
        "You can check what are the available ML algorithms based on `tb.ml_algorithms(have_labels=True/False)` depending on supervised or unsupervised learning."
      ],
      "id": "28",
      "metadata": {
        "id": "28"
      }
    },
    {
      "cell_type": "code",
      "source": [
        "# Check available ML algorithms with labels (supervised learning)\n",
        "tb.ml_algorithms(have_labels=True)"
      ],
      "metadata": {
        "colab": {
          "base_uri": "https://localhost:8080/"
        },
        "id": "PdwuqmA3FNAY",
        "outputId": "8b6985bd-afed-41c6-c995-1fc82778b781"
      },
      "id": "PdwuqmA3FNAY",
      "execution_count": 43,
      "outputs": [
        {
          "output_type": "execute_result",
          "data": {
            "text/plain": [
              "['HoeffdingTreeClassifier',\n",
              " 'HoeffdingTreeRegressor',\n",
              " 'AMFClassifier',\n",
              " 'AMFRegressor',\n",
              " 'FFMClassifier',\n",
              " 'FFMRegressor',\n",
              " 'SGTClassifier',\n",
              " 'SGTRegressor',\n",
              " 'SNARIMAX',\n",
              " 'LeveragingBaggingClassifier',\n",
              " 'HeteroLeveragingBaggingClassifier',\n",
              " 'AdaBoostClassifier',\n",
              " 'HeteroAdaBoostClassifier',\n",
              " 'RandomSampler',\n",
              " 'NeuralNetwork',\n",
              " 'ONN',\n",
              " 'Python',\n",
              " 'OVR',\n",
              " 'BanditModelSelection',\n",
              " 'ContextualBanditModelSelection',\n",
              " 'RandomProjectionEmbedding',\n",
              " 'EmbeddingModel',\n",
              " 'MultinomialNB',\n",
              " 'GaussianNB',\n",
              " 'AdaptiveXGBoost',\n",
              " 'AdaptiveLGBM',\n",
              " 'LLAMAEmbedding',\n",
              " 'LlamaText',\n",
              " 'RestAPIClient',\n",
              " 'ClipEmbedding',\n",
              " 'PythonEnsembleModel',\n",
              " 'GRPCClient']"
            ]
          },
          "metadata": {},
          "execution_count": 43
        }
      ]
    },
    {
      "cell_type": "markdown",
      "source": [
        "Let's use the RandomCutForest (RCF) algorithm."
      ],
      "id": "30",
      "metadata": {
        "id": "30"
      }
    },
    {
      "cell_type": "markdown",
      "source": [
        "### Create model\n",
        "\n",
        "Now that we've chosen an algorithm, we need to create a model."
      ],
      "id": "31",
      "metadata": {
        "id": "31"
      }
    },
    {
      "cell_type": "code",
      "source": [
        "model = tb.RCF(number_of_trees=50)"
      ],
      "execution_count": null,
      "id": "32",
      "metadata": {
        "id": "32"
      },
      "outputs": []
    },
    {
      "cell_type": "markdown",
      "source": [
        "### Run Streaming ML jobs\n",
        "Now that we've instantiated the model, we can deploy it using the **deploy** function.\n",
        "For an unsupervised ML job, we need to provide a dataset from which the model can consume inputs. For each record in this dataset, the model will make a prediction, produce the prediction to an output dataset, and then perform unsupervised updates using this record.\n",
        "\n",
        "There are four types of fields that can be used by any ML algorithm:\n",
        "\n",
        "  - numerical_fields: This represents fields that we want our algorithm to treat as real-valued fields.\n",
        "  - categorical_fields: This represents fields that we want our algorithm to treat as categorical fields.\n",
        "  - time_field: This is used for time-series applications to capture the timestamp field.\n",
        "  - textual_fields: This represents fields that we want our algorithm to treat as text fields.\n",
        "\n",
        "The input values from any of these fields are suitably converted to the desired type. String values are converted using the hashing trick."
      ],
      "id": "33",
      "metadata": {
        "id": "33"
      }
    },
    {
      "cell_type": "markdown",
      "source": [
        "Let's construct a model config using the following numerical fields, no categorical or time fields."
      ],
      "id": "34",
      "metadata": {
        "id": "34"
      }
    },
    {
      "cell_type": "code",
      "source": [
        "numerical_fields = [\n",
        "    \"transactionAmount\",\n",
        "    \"localHour\",\n",
        "    \"my_sum_feat\",\n",
        "    \"my_sql_feat\",\n",
        "]\n",
        "features = transactions.get_model_inputs(numerical_fields=numerical_fields)\n",
        "label = labels.get_model_labels(label_field=\"is_fraud\")"
      ],
      "execution_count": null,
      "id": "35",
      "metadata": {
        "id": "35"
      },
      "outputs": []
    },
    {
      "cell_type": "code",
      "source": [
        "deployed_model_rcf = model.deploy(name=\"demo_model_rcf\", input=features, labels=label)"
      ],
      "execution_count": null,
      "id": "36",
      "metadata": {
        "id": "36"
      },
      "outputs": []
    },
    {
      "cell_type": "markdown",
      "source": [
        "### Inspect model outputs\n",
        "\n",
        "We can now fetch the outputs that the model produced by calling the **get_outputs** function.\n",
        "\n",
        "**Note**: This size of the outputs returned by this function can change on each invocation, since the model is continuosly producing outputs.  "
      ],
      "id": "37",
      "metadata": {
        "id": "37"
      }
    },
    {
      "cell_type": "code",
      "source": [
        "outputs = deployed_model_rcf.get_outputs()"
      ],
      "execution_count": null,
      "id": "38",
      "metadata": {
        "id": "38"
      },
      "outputs": []
    },
    {
      "cell_type": "code",
      "source": [
        "len(outputs)"
      ],
      "execution_count": null,
      "id": "39",
      "metadata": {
        "id": "39"
      },
      "outputs": []
    },
    {
      "cell_type": "code",
      "source": [
        "sample_output = outputs[-1]\n",
        "sample_output"
      ],
      "execution_count": null,
      "id": "40",
      "metadata": {
        "id": "40"
      },
      "outputs": []
    },
    {
      "cell_type": "markdown",
      "source": [
        "The above output corresponds to an input with the key, or index, sample_output.key. Along with the anomaly score, the output also contains attributions to different features. We can see that the first numerical feature, i.e. 'transactionAmount' is around sample_output.feature_score[0]*100% responsible for the anomaly score"
      ],
      "id": "41",
      "metadata": {
        "id": "41"
      }
    },
    {
      "cell_type": "code",
      "source": [
        "import matplotlib.pyplot as plt\n",
        "\n",
        "plt.plot([output[\"record\"].score for output in outputs])"
      ],
      "execution_count": null,
      "id": "42",
      "metadata": {
        "id": "42"
      },
      "outputs": []
    },
    {
      "cell_type": "markdown",
      "source": [
        "### Model Endpoints\n",
        "\n",
        "The above method of interacting with the model was asynchronous. We were adding our datapoints to an input dataset, and getting the corresponding model outputs in an output dataset. In some scenarios, we need a synchronous method to query the model. This is where we can use the model endpoints that TurboML exposes."
      ],
      "id": "43",
      "metadata": {
        "id": "43"
      }
    },
    {
      "cell_type": "code",
      "source": [
        "model_endpoints = deployed_model_rcf.get_endpoints()\n",
        "model_endpoints"
      ],
      "execution_count": 104,
      "id": "44",
      "metadata": {
        "colab": {
          "base_uri": "https://localhost:8080/",
          "height": 158
        },
        "id": "44",
        "outputId": "b1b56615-52b0-470a-e32b-d3cd990c417a"
      },
      "outputs": [
        {
          "output_type": "error",
          "ename": "NameError",
          "evalue": "name 'deployed_model_rcf' is not defined",
          "traceback": [
            "\u001b[0;31m---------------------------------------------------------------------------\u001b[0m",
            "\u001b[0;31mNameError\u001b[0m                                 Traceback (most recent call last)",
            "\u001b[0;32m<ipython-input-104-9cb82efb0ff0>\u001b[0m in \u001b[0;36m<cell line: 0>\u001b[0;34m()\u001b[0m\n\u001b[0;32m----> 1\u001b[0;31m \u001b[0mmodel_endpoints\u001b[0m \u001b[0;34m=\u001b[0m \u001b[0mdeployed_model_rcf\u001b[0m\u001b[0;34m.\u001b[0m\u001b[0mget_endpoints\u001b[0m\u001b[0;34m(\u001b[0m\u001b[0;34m)\u001b[0m\u001b[0;34m\u001b[0m\u001b[0;34m\u001b[0m\u001b[0m\n\u001b[0m\u001b[1;32m      2\u001b[0m \u001b[0mmodel_endpoints\u001b[0m\u001b[0;34m\u001b[0m\u001b[0;34m\u001b[0m\u001b[0m\n",
            "\u001b[0;31mNameError\u001b[0m: name 'deployed_model_rcf' is not defined"
          ]
        }
      ]
    },
    {
      "cell_type": "markdown",
      "source": [
        "Now that we know what endpoint to send the request to, we now need to figure out the right format. Let's try to make a prediction on the last row from our input dataset."
      ],
      "id": "45",
      "metadata": {
        "id": "45"
      }
    },
    {
      "cell_type": "code",
      "source": [
        "model_query_datapoint = transactions_df.iloc[-1].to_dict()\n",
        "model_query_datapoint"
      ],
      "execution_count": null,
      "id": "46",
      "metadata": {
        "id": "46"
      },
      "outputs": []
    },
    {
      "cell_type": "code",
      "source": [
        "import requests\n",
        "\n",
        "resp = requests.post(\n",
        "    model_endpoints[0], json=model_query_datapoint, headers=tb.common.api.headers\n",
        ")"
      ],
      "execution_count": null,
      "id": "47",
      "metadata": {
        "id": "47"
      },
      "outputs": []
    },
    {
      "cell_type": "code",
      "source": [
        "resp.json()"
      ],
      "execution_count": null,
      "id": "48",
      "metadata": {
        "id": "48"
      },
      "outputs": []
    },
    {
      "cell_type": "markdown",
      "source": [
        "### Batch Inference on Models\n",
        "\n",
        "While the above method is more suited for individual requests, we can also perform batch inference on the models. We use the **get_inference** function for this purpose."
      ],
      "id": "49",
      "metadata": {
        "id": "49"
      }
    },
    {
      "cell_type": "code",
      "source": [
        "outputs = deployed_model_rcf.get_inference(transactions_df)\n",
        "outputs"
      ],
      "execution_count": null,
      "id": "50",
      "metadata": {
        "id": "50"
      },
      "outputs": []
    },
    {
      "cell_type": "markdown",
      "source": [
        "## Model Evaluation"
      ],
      "id": "51",
      "metadata": {
        "id": "51"
      }
    },
    {
      "cell_type": "markdown",
      "source": [
        "Similar to ML models, TurboML provides in-built metrics, and supports defining your own metrics. Let's see the available metrics."
      ],
      "id": "52",
      "metadata": {
        "id": "52"
      }
    },
    {
      "cell_type": "code",
      "source": [
        "tb.evaluation_metrics()"
      ],
      "execution_count": null,
      "id": "53",
      "metadata": {
        "id": "53"
      },
      "outputs": []
    },
    {
      "cell_type": "markdown",
      "source": [
        "We can select the AreaUnderCurve (AUC) metric to evaluate our anomaly detection model. The windowed prefix means we're evaluating these metrics over a rolling window. By default, the window size is `1000`."
      ],
      "id": "54",
      "metadata": {
        "id": "54"
      }
    },
    {
      "cell_type": "code",
      "source": [
        "deployed_model_rcf.add_metric(\"WindowedAUC\")"
      ],
      "execution_count": null,
      "id": "55",
      "metadata": {
        "id": "55"
      },
      "outputs": []
    },
    {
      "cell_type": "markdown",
      "source": [
        "Similar to steps like feature engineering and ML modelling, model evaluation is also a continuosly running job. We can look at the snapshot of the model metrics at any given instance by using the **get_evaluation** function.\n",
        "\n",
        "**Note**: This size of the outputs returned by this function can change on each invocation, since we're continuously evaluating the model.  "
      ],
      "id": "56",
      "metadata": {
        "id": "56"
      }
    },
    {
      "cell_type": "code",
      "source": [
        "model_auc_scores = deployed_model_rcf.get_evaluation(\"WindowedAUC\")\n",
        "model_auc_scores[-1]"
      ],
      "execution_count": null,
      "id": "57",
      "metadata": {
        "id": "57"
      },
      "outputs": []
    },
    {
      "cell_type": "code",
      "source": [
        "import matplotlib.pyplot as plt\n",
        "\n",
        "plt.plot([model_auc_score.metric for model_auc_score in model_auc_scores])"
      ],
      "execution_count": null,
      "id": "58",
      "metadata": {
        "id": "58"
      },
      "outputs": []
    },
    {
      "cell_type": "markdown",
      "source": [
        "### Model Evaluation with filter and custom window size"
      ],
      "id": "59",
      "metadata": {
        "id": "59"
      }
    },
    {
      "cell_type": "markdown",
      "source": [
        "We support running evaluation on filtered model data using valid SQL expression along with custom window size."
      ],
      "id": "60",
      "metadata": {
        "id": "60"
      }
    },
    {
      "cell_type": "code",
      "source": [
        "model_auc_scores = deployed_model_rcf.get_evaluation(\n",
        "    \"WindowedAUC\",\n",
        "    filter_expression=\"input_data.transactionCurrencyCode != 'USD' AND output_data.score > 0.6\",\n",
        "    window_size=200,\n",
        ")\n",
        "model_auc_scores[-1]"
      ],
      "execution_count": null,
      "id": "61",
      "metadata": {
        "id": "61"
      },
      "outputs": []
    },
    {
      "cell_type": "code",
      "source": [
        "import matplotlib.pyplot as plt\n",
        "\n",
        "plt.plot([model_auc_score.metric for model_auc_score in model_auc_scores])"
      ],
      "execution_count": null,
      "id": "62",
      "metadata": {
        "id": "62"
      },
      "outputs": []
    },
    {
      "cell_type": "markdown",
      "source": [
        "## Supervised Learning\n",
        "\n",
        "Let's now take an example with a supervised learning algorithm. First, let's see what algorithms are supported out of the box."
      ],
      "id": "63",
      "metadata": {
        "id": "63"
      }
    },
    {
      "cell_type": "code",
      "source": [
        "tb.ml_algorithms(have_labels=True)"
      ],
      "execution_count": 44,
      "id": "64",
      "metadata": {
        "colab": {
          "base_uri": "https://localhost:8080/"
        },
        "id": "64",
        "outputId": "fbcbfbd1-3250-4140-a7c0-62aea63c9907"
      },
      "outputs": [
        {
          "output_type": "execute_result",
          "data": {
            "text/plain": [
              "['HoeffdingTreeClassifier',\n",
              " 'HoeffdingTreeRegressor',\n",
              " 'AMFClassifier',\n",
              " 'AMFRegressor',\n",
              " 'FFMClassifier',\n",
              " 'FFMRegressor',\n",
              " 'SGTClassifier',\n",
              " 'SGTRegressor',\n",
              " 'SNARIMAX',\n",
              " 'LeveragingBaggingClassifier',\n",
              " 'HeteroLeveragingBaggingClassifier',\n",
              " 'AdaBoostClassifier',\n",
              " 'HeteroAdaBoostClassifier',\n",
              " 'RandomSampler',\n",
              " 'NeuralNetwork',\n",
              " 'ONN',\n",
              " 'Python',\n",
              " 'OVR',\n",
              " 'BanditModelSelection',\n",
              " 'ContextualBanditModelSelection',\n",
              " 'RandomProjectionEmbedding',\n",
              " 'EmbeddingModel',\n",
              " 'MultinomialNB',\n",
              " 'GaussianNB',\n",
              " 'AdaptiveXGBoost',\n",
              " 'AdaptiveLGBM',\n",
              " 'LLAMAEmbedding',\n",
              " 'LlamaText',\n",
              " 'RestAPIClient',\n",
              " 'ClipEmbedding',\n",
              " 'PythonEnsembleModel',\n",
              " 'GRPCClient']"
            ]
          },
          "metadata": {},
          "execution_count": 44
        }
      ]
    },
    {
      "cell_type": "markdown",
      "source": [
        "We can use HoeffdingTreeClassifier to try to classify fraudulent and normal activity on the same dataset. First, we need to instantiate a model."
      ],
      "id": "65",
      "metadata": {
        "id": "65"
      }
    },
    {
      "cell_type": "code",
      "source": [
        "htc_model = tb.HoeffdingTreeClassifier(n_classes=2)"
      ],
      "execution_count": 45,
      "id": "66",
      "metadata": {
        "id": "66"
      },
      "outputs": []
    },
    {
      "cell_type": "markdown",
      "source": [
        "We can use the same numerical fields in this model as well. However, let's add some categorical fields as well."
      ],
      "id": "67",
      "metadata": {
        "id": "67"
      }
    },
    {
      "cell_type": "code",
      "source": [
        "categorical_fields = [\n",
        "    # \"Country\",\n",
        "    \"Gender\",\n",
        "    \"Physical_Activity_Level\",\n",
        "    \"Smoking_Status\",\n",
        "    \"Alcohol_Consumption\",\n",
        "    \"Diabetes\",\n",
        "    \"Hypertension\",\n",
        "    \"Cholesterol_Level\",\n",
        "    \"Family_History_of_Alzheimers\",\n",
        "    \"Depression_Level\",\n",
        "    \"Sleep_Quality\",\n",
        "    \"Dietary_Habits\",\n",
        "    \"Air_Pollution_Exposure\",\n",
        "    \"Employment_Status\",\n",
        "    \"Marital_Status\",\n",
        "    \"Genetic_Risk_Factor\",\n",
        "    \"Social_Engagement_Level\",\n",
        "    \"Income_Level\",\n",
        "    \"Stress_Levels\",\n",
        "    \"Urban_vs_Rural_Living\",\n",
        "]\n",
        "numerical_fields = [\n",
        "    \"Age\",\n",
        "    \"Education_Level\",\n",
        "    \"BMI\",\n",
        "    \"Cognitive_Test_Score\",\n",
        "    \"health_risk_score\",\n",
        "    \"lifestyle_index\",\n",
        "    \"social_support_score\",\n",
        "    \"cognitive_health_score\",\n",
        "    \"environmental_exposure_score\",\n",
        "    \"sleep_mental_wellness_score\"\n",
        "]\n",
        "\n"
      ],
      "execution_count": 53,
      "id": "68",
      "metadata": {
        "id": "68"
      },
      "outputs": []
    },
    {
      "cell_type": "code",
      "source": [
        "labels_df.head()"
      ],
      "metadata": {
        "colab": {
          "base_uri": "https://localhost:8080/",
          "height": 206
        },
        "id": "0cm3vl1zMz-n",
        "outputId": "e8256f1c-184e-41b1-f6c4-1172826ad066"
      },
      "id": "0cm3vl1zMz-n",
      "execution_count": 69,
      "outputs": [
        {
          "output_type": "execute_result",
          "data": {
            "text/plain": [
              "   index  label\n",
              "0      0      0\n",
              "1      1      0\n",
              "2      2      0\n",
              "3      3      0\n",
              "4      4      0"
            ],
            "text/html": [
              "\n",
              "  <div id=\"df-a7f42f8b-d5fc-478b-bb8b-1d95bdcd4358\" class=\"colab-df-container\">\n",
              "    <div>\n",
              "<style scoped>\n",
              "    .dataframe tbody tr th:only-of-type {\n",
              "        vertical-align: middle;\n",
              "    }\n",
              "\n",
              "    .dataframe tbody tr th {\n",
              "        vertical-align: top;\n",
              "    }\n",
              "\n",
              "    .dataframe thead th {\n",
              "        text-align: right;\n",
              "    }\n",
              "</style>\n",
              "<table border=\"1\" class=\"dataframe\">\n",
              "  <thead>\n",
              "    <tr style=\"text-align: right;\">\n",
              "      <th></th>\n",
              "      <th>index</th>\n",
              "      <th>label</th>\n",
              "    </tr>\n",
              "  </thead>\n",
              "  <tbody>\n",
              "    <tr>\n",
              "      <th>0</th>\n",
              "      <td>0</td>\n",
              "      <td>0</td>\n",
              "    </tr>\n",
              "    <tr>\n",
              "      <th>1</th>\n",
              "      <td>1</td>\n",
              "      <td>0</td>\n",
              "    </tr>\n",
              "    <tr>\n",
              "      <th>2</th>\n",
              "      <td>2</td>\n",
              "      <td>0</td>\n",
              "    </tr>\n",
              "    <tr>\n",
              "      <th>3</th>\n",
              "      <td>3</td>\n",
              "      <td>0</td>\n",
              "    </tr>\n",
              "    <tr>\n",
              "      <th>4</th>\n",
              "      <td>4</td>\n",
              "      <td>0</td>\n",
              "    </tr>\n",
              "  </tbody>\n",
              "</table>\n",
              "</div>\n",
              "    <div class=\"colab-df-buttons\">\n",
              "\n",
              "  <div class=\"colab-df-container\">\n",
              "    <button class=\"colab-df-convert\" onclick=\"convertToInteractive('df-a7f42f8b-d5fc-478b-bb8b-1d95bdcd4358')\"\n",
              "            title=\"Convert this dataframe to an interactive table.\"\n",
              "            style=\"display:none;\">\n",
              "\n",
              "  <svg xmlns=\"http://www.w3.org/2000/svg\" height=\"24px\" viewBox=\"0 -960 960 960\">\n",
              "    <path d=\"M120-120v-720h720v720H120Zm60-500h600v-160H180v160Zm220 220h160v-160H400v160Zm0 220h160v-160H400v160ZM180-400h160v-160H180v160Zm440 0h160v-160H620v160ZM180-180h160v-160H180v160Zm440 0h160v-160H620v160Z\"/>\n",
              "  </svg>\n",
              "    </button>\n",
              "\n",
              "  <style>\n",
              "    .colab-df-container {\n",
              "      display:flex;\n",
              "      gap: 12px;\n",
              "    }\n",
              "\n",
              "    .colab-df-convert {\n",
              "      background-color: #E8F0FE;\n",
              "      border: none;\n",
              "      border-radius: 50%;\n",
              "      cursor: pointer;\n",
              "      display: none;\n",
              "      fill: #1967D2;\n",
              "      height: 32px;\n",
              "      padding: 0 0 0 0;\n",
              "      width: 32px;\n",
              "    }\n",
              "\n",
              "    .colab-df-convert:hover {\n",
              "      background-color: #E2EBFA;\n",
              "      box-shadow: 0px 1px 2px rgba(60, 64, 67, 0.3), 0px 1px 3px 1px rgba(60, 64, 67, 0.15);\n",
              "      fill: #174EA6;\n",
              "    }\n",
              "\n",
              "    .colab-df-buttons div {\n",
              "      margin-bottom: 4px;\n",
              "    }\n",
              "\n",
              "    [theme=dark] .colab-df-convert {\n",
              "      background-color: #3B4455;\n",
              "      fill: #D2E3FC;\n",
              "    }\n",
              "\n",
              "    [theme=dark] .colab-df-convert:hover {\n",
              "      background-color: #434B5C;\n",
              "      box-shadow: 0px 1px 3px 1px rgba(0, 0, 0, 0.15);\n",
              "      filter: drop-shadow(0px 1px 2px rgba(0, 0, 0, 0.3));\n",
              "      fill: #FFFFFF;\n",
              "    }\n",
              "  </style>\n",
              "\n",
              "    <script>\n",
              "      const buttonEl =\n",
              "        document.querySelector('#df-a7f42f8b-d5fc-478b-bb8b-1d95bdcd4358 button.colab-df-convert');\n",
              "      buttonEl.style.display =\n",
              "        google.colab.kernel.accessAllowed ? 'block' : 'none';\n",
              "\n",
              "      async function convertToInteractive(key) {\n",
              "        const element = document.querySelector('#df-a7f42f8b-d5fc-478b-bb8b-1d95bdcd4358');\n",
              "        const dataTable =\n",
              "          await google.colab.kernel.invokeFunction('convertToInteractive',\n",
              "                                                    [key], {});\n",
              "        if (!dataTable) return;\n",
              "\n",
              "        const docLinkHtml = 'Like what you see? Visit the ' +\n",
              "          '<a target=\"_blank\" href=https://colab.research.google.com/notebooks/data_table.ipynb>data table notebook</a>'\n",
              "          + ' to learn more about interactive tables.';\n",
              "        element.innerHTML = '';\n",
              "        dataTable['output_type'] = 'display_data';\n",
              "        await google.colab.output.renderOutput(dataTable, element);\n",
              "        const docLink = document.createElement('div');\n",
              "        docLink.innerHTML = docLinkHtml;\n",
              "        element.appendChild(docLink);\n",
              "      }\n",
              "    </script>\n",
              "  </div>\n",
              "\n",
              "\n",
              "<div id=\"df-f21d71d1-ab00-48ef-9376-6e29c29f6b3a\">\n",
              "  <button class=\"colab-df-quickchart\" onclick=\"quickchart('df-f21d71d1-ab00-48ef-9376-6e29c29f6b3a')\"\n",
              "            title=\"Suggest charts\"\n",
              "            style=\"display:none;\">\n",
              "\n",
              "<svg xmlns=\"http://www.w3.org/2000/svg\" height=\"24px\"viewBox=\"0 0 24 24\"\n",
              "     width=\"24px\">\n",
              "    <g>\n",
              "        <path d=\"M19 3H5c-1.1 0-2 .9-2 2v14c0 1.1.9 2 2 2h14c1.1 0 2-.9 2-2V5c0-1.1-.9-2-2-2zM9 17H7v-7h2v7zm4 0h-2V7h2v10zm4 0h-2v-4h2v4z\"/>\n",
              "    </g>\n",
              "</svg>\n",
              "  </button>\n",
              "\n",
              "<style>\n",
              "  .colab-df-quickchart {\n",
              "      --bg-color: #E8F0FE;\n",
              "      --fill-color: #1967D2;\n",
              "      --hover-bg-color: #E2EBFA;\n",
              "      --hover-fill-color: #174EA6;\n",
              "      --disabled-fill-color: #AAA;\n",
              "      --disabled-bg-color: #DDD;\n",
              "  }\n",
              "\n",
              "  [theme=dark] .colab-df-quickchart {\n",
              "      --bg-color: #3B4455;\n",
              "      --fill-color: #D2E3FC;\n",
              "      --hover-bg-color: #434B5C;\n",
              "      --hover-fill-color: #FFFFFF;\n",
              "      --disabled-bg-color: #3B4455;\n",
              "      --disabled-fill-color: #666;\n",
              "  }\n",
              "\n",
              "  .colab-df-quickchart {\n",
              "    background-color: var(--bg-color);\n",
              "    border: none;\n",
              "    border-radius: 50%;\n",
              "    cursor: pointer;\n",
              "    display: none;\n",
              "    fill: var(--fill-color);\n",
              "    height: 32px;\n",
              "    padding: 0;\n",
              "    width: 32px;\n",
              "  }\n",
              "\n",
              "  .colab-df-quickchart:hover {\n",
              "    background-color: var(--hover-bg-color);\n",
              "    box-shadow: 0 1px 2px rgba(60, 64, 67, 0.3), 0 1px 3px 1px rgba(60, 64, 67, 0.15);\n",
              "    fill: var(--button-hover-fill-color);\n",
              "  }\n",
              "\n",
              "  .colab-df-quickchart-complete:disabled,\n",
              "  .colab-df-quickchart-complete:disabled:hover {\n",
              "    background-color: var(--disabled-bg-color);\n",
              "    fill: var(--disabled-fill-color);\n",
              "    box-shadow: none;\n",
              "  }\n",
              "\n",
              "  .colab-df-spinner {\n",
              "    border: 2px solid var(--fill-color);\n",
              "    border-color: transparent;\n",
              "    border-bottom-color: var(--fill-color);\n",
              "    animation:\n",
              "      spin 1s steps(1) infinite;\n",
              "  }\n",
              "\n",
              "  @keyframes spin {\n",
              "    0% {\n",
              "      border-color: transparent;\n",
              "      border-bottom-color: var(--fill-color);\n",
              "      border-left-color: var(--fill-color);\n",
              "    }\n",
              "    20% {\n",
              "      border-color: transparent;\n",
              "      border-left-color: var(--fill-color);\n",
              "      border-top-color: var(--fill-color);\n",
              "    }\n",
              "    30% {\n",
              "      border-color: transparent;\n",
              "      border-left-color: var(--fill-color);\n",
              "      border-top-color: var(--fill-color);\n",
              "      border-right-color: var(--fill-color);\n",
              "    }\n",
              "    40% {\n",
              "      border-color: transparent;\n",
              "      border-right-color: var(--fill-color);\n",
              "      border-top-color: var(--fill-color);\n",
              "    }\n",
              "    60% {\n",
              "      border-color: transparent;\n",
              "      border-right-color: var(--fill-color);\n",
              "    }\n",
              "    80% {\n",
              "      border-color: transparent;\n",
              "      border-right-color: var(--fill-color);\n",
              "      border-bottom-color: var(--fill-color);\n",
              "    }\n",
              "    90% {\n",
              "      border-color: transparent;\n",
              "      border-bottom-color: var(--fill-color);\n",
              "    }\n",
              "  }\n",
              "</style>\n",
              "\n",
              "  <script>\n",
              "    async function quickchart(key) {\n",
              "      const quickchartButtonEl =\n",
              "        document.querySelector('#' + key + ' button');\n",
              "      quickchartButtonEl.disabled = true;  // To prevent multiple clicks.\n",
              "      quickchartButtonEl.classList.add('colab-df-spinner');\n",
              "      try {\n",
              "        const charts = await google.colab.kernel.invokeFunction(\n",
              "            'suggestCharts', [key], {});\n",
              "      } catch (error) {\n",
              "        console.error('Error during call to suggestCharts:', error);\n",
              "      }\n",
              "      quickchartButtonEl.classList.remove('colab-df-spinner');\n",
              "      quickchartButtonEl.classList.add('colab-df-quickchart-complete');\n",
              "    }\n",
              "    (() => {\n",
              "      let quickchartButtonEl =\n",
              "        document.querySelector('#df-f21d71d1-ab00-48ef-9376-6e29c29f6b3a button');\n",
              "      quickchartButtonEl.style.display =\n",
              "        google.colab.kernel.accessAllowed ? 'block' : 'none';\n",
              "    })();\n",
              "  </script>\n",
              "</div>\n",
              "\n",
              "    </div>\n",
              "  </div>\n"
            ],
            "application/vnd.google.colaboratory.intrinsic+json": {
              "type": "dataframe",
              "variable_name": "labels_df",
              "summary": "{\n  \"name\": \"labels_df\",\n  \"rows\": 74283,\n  \"fields\": [\n    {\n      \"column\": \"index\",\n      \"properties\": {\n        \"dtype\": \"number\",\n        \"std\": 21443,\n        \"min\": 0,\n        \"max\": 74282,\n        \"num_unique_values\": 74283,\n        \"samples\": [\n          57639,\n          36246,\n          36011\n        ],\n        \"semantic_type\": \"\",\n        \"description\": \"\"\n      }\n    },\n    {\n      \"column\": \"label\",\n      \"properties\": {\n        \"dtype\": \"number\",\n        \"std\": 0,\n        \"min\": 0,\n        \"max\": 1,\n        \"num_unique_values\": 2,\n        \"samples\": [\n          1,\n          0\n        ],\n        \"semantic_type\": \"\",\n        \"description\": \"\"\n      }\n    }\n  ]\n}"
            }
          },
          "metadata": {},
          "execution_count": 69
        }
      ]
    },
    {
      "cell_type": "code",
      "source": [
        "labels = tb.OnlineDataset.from_pd(\n",
        "    id=\"qss_transaction_labels\",\n",
        "    df=labels_df,\n",
        "    key_field=\"index\",\n",
        "    load_if_exists=True,\n",
        ")"
      ],
      "metadata": {
        "colab": {
          "base_uri": "https://localhost:8080/"
        },
        "id": "EezdbBYMOAKx",
        "outputId": "0fe29f12-681d-4d2b-8060-c2ddad76a10a"
      },
      "id": "EezdbBYMOAKx",
      "execution_count": 73,
      "outputs": [
        {
          "output_type": "stream",
          "name": "stderr",
          "text": [
            "INFO:turboml.common.dataloader:Uploading 74283 rows to dataset qss_transaction_labels\n",
            "Progress: 100%|██████████| 74.3k/74.3k [00:00<00:00, 76.9krows/s]\n",
            "INFO:turboml.common.dataloader:Upload complete. Waiting for server to process messages.\n"
          ]
        }
      ]
    },
    {
      "cell_type": "code",
      "source": [
        "labels"
      ],
      "metadata": {
        "colab": {
          "base_uri": "https://localhost:8080/"
        },
        "id": "KUWSFSoIOFTI",
        "outputId": "875425f0-f45b-45f7-cfac-7e6815b7bcac"
      },
      "id": "KUWSFSoIOFTI",
      "execution_count": 74,
      "outputs": [
        {
          "output_type": "execute_result",
          "data": {
            "text/plain": [
              "OnlineDataset(id=qss_transaction_labels, key_field=index, schema=DatasetSchema(index: int64, label: int64))"
            ]
          },
          "metadata": {},
          "execution_count": 74
        }
      ]
    },
    {
      "cell_type": "code",
      "source": [
        "features = transactions.get_model_inputs(\n",
        "    numerical_fields=numerical_fields,textual_fields=categorical_fields\n",
        ")\n",
        "label = labels.get_model_labels(label_field=\"label\")"
      ],
      "metadata": {
        "id": "aC4lfzeuIiPZ"
      },
      "id": "aC4lfzeuIiPZ",
      "execution_count": 75,
      "outputs": []
    },
    {
      "cell_type": "markdown",
      "source": [
        "### Run Supervised ML jobs\n",
        "Same as before, we can deploy this model with the **deploy** function."
      ],
      "id": "69",
      "metadata": {
        "id": "69"
      }
    },
    {
      "cell_type": "code",
      "source": [
        "deployed_model_htc = htc_model.deploy(\"demo_classifier\", input=features, labels=label)"
      ],
      "execution_count": 76,
      "id": "70",
      "metadata": {
        "id": "70"
      },
      "outputs": []
    },
    {
      "cell_type": "markdown",
      "source": [
        "We can now inspect the outputs."
      ],
      "id": "71",
      "metadata": {
        "id": "71"
      }
    },
    {
      "cell_type": "code",
      "source": [
        "outputs = deployed_model_htc.get_outputs()"
      ],
      "execution_count": 77,
      "id": "72",
      "metadata": {
        "colab": {
          "base_uri": "https://localhost:8080/"
        },
        "id": "72",
        "outputId": "d33d282a-ba44-4397-f2af-08cfffda6855"
      },
      "outputs": [
        {
          "output_type": "stream",
          "name": "stderr",
          "text": [
            "INFO:turboml.common.dataloader:Yielded 5000 records (1 batches) in 1 seconds\n",
            "INFO:turboml.common.dataloader:Yielded 74283 records (15 batches) in 2 seconds\n"
          ]
        }
      ]
    },
    {
      "cell_type": "code",
      "source": [
        "len(outputs)"
      ],
      "execution_count": 78,
      "id": "73",
      "metadata": {
        "colab": {
          "base_uri": "https://localhost:8080/"
        },
        "id": "73",
        "outputId": "7541c5a8-9163-4145-f2c2-8c51bb6585c4"
      },
      "outputs": [
        {
          "output_type": "execute_result",
          "data": {
            "text/plain": [
              "74283"
            ]
          },
          "metadata": {},
          "execution_count": 78
        }
      ]
    },
    {
      "cell_type": "code",
      "source": [
        "sample_output = outputs[-1]\n",
        "sample_output."
      ],
      "execution_count": 79,
      "id": "74",
      "metadata": {
        "colab": {
          "base_uri": "https://localhost:8080/"
        },
        "id": "74",
        "outputId": "b3a85e36-20bc-4e49-adfe-a2933f18ad97"
      },
      "outputs": [
        {
          "output_type": "execute_result",
          "data": {
            "text/plain": [
              "{'offset': 74282,\n",
              " 'record': key: \"72824\"\n",
              " score: 0.659707725\n",
              " class_probabilities: 0.340292275\n",
              " class_probabilities: 0.659707725\n",
              " predicted_class: 1}"
            ]
          },
          "metadata": {},
          "execution_count": 79
        }
      ]
    },
    {
      "cell_type": "markdown",
      "source": [
        "We notice that since this is a classification model, we have some new attributes in the output, specifically `class_probabilities` and `predicted_class`. We also have the `score` attribute which, for classification, just shows us the probability for the last class."
      ],
      "id": "75",
      "metadata": {
        "id": "75"
      }
    },
    {
      "cell_type": "markdown",
      "source": [
        "### Supervised Model Endpoints\n",
        "Predict API for supervised models is exactly the same as unsupervised models."
      ],
      "id": "76",
      "metadata": {
        "id": "76"
      }
    },
    {
      "cell_type": "code",
      "source": [
        "model_endpoints = deployed_model_htc.get_endpoints()\n",
        "model_endpoints"
      ],
      "execution_count": 80,
      "id": "77",
      "metadata": {
        "colab": {
          "base_uri": "https://localhost:8080/"
        },
        "id": "77",
        "outputId": "936cd91a-4873-48e0-8062-8591f83b77d3"
      },
      "outputs": [
        {
          "output_type": "execute_result",
          "data": {
            "text/plain": [
              "['https://organic-turkey.api.turboml.online/model/_turboml.demo_classifier/predict']"
            ]
          },
          "metadata": {},
          "execution_count": 80
        }
      ]
    },
    {
      "cell_type": "code",
      "source": [
        "model_query_datapoint = transactions_df.iloc[-1].to_dict()\n",
        "model_query_datapoint"
      ],
      "metadata": {
        "colab": {
          "base_uri": "https://localhost:8080/"
        },
        "id": "hU74isG9SbBl",
        "outputId": "bc46603c-dc6b-4192-bc67-0654aa3bd038"
      },
      "id": "hU74isG9SbBl",
      "execution_count": 82,
      "outputs": [
        {
          "output_type": "execute_result",
          "data": {
            "text/plain": [
              "{'index': 74282,\n",
              " 'Country': 'Norway',\n",
              " 'Age': 57,\n",
              " 'Gender': 'Female',\n",
              " 'Education_Level': 1,\n",
              " 'BMI': 31.7,\n",
              " 'Physical_Activity_Level': 'Low',\n",
              " 'Smoking_Status': 'Current',\n",
              " 'Alcohol_Consumption': 'Regularly',\n",
              " 'Diabetes': 'No',\n",
              " 'Hypertension': 'No',\n",
              " 'Cholesterol_Level': 'Normal',\n",
              " 'Family_History_of_Alzheimers': 'No',\n",
              " 'Cognitive_Test_Score': 46,\n",
              " 'Depression_Level': 'Low',\n",
              " 'Sleep_Quality': 'Average',\n",
              " 'Dietary_Habits': 'Average',\n",
              " 'Air_Pollution_Exposure': 'Low',\n",
              " 'Employment_Status': 'Unemployed',\n",
              " 'Marital_Status': 'Single',\n",
              " 'Genetic_Risk_Factor': 'No',\n",
              " 'Social_Engagement_Level': 'Low',\n",
              " 'Income_Level': 'Medium',\n",
              " 'Stress_Levels': 'Medium',\n",
              " 'Urban_vs_Rural_Living': 'Urban'}"
            ]
          },
          "metadata": {},
          "execution_count": 82
        }
      ]
    },
    {
      "cell_type": "code",
      "source": [],
      "metadata": {
        "id": "g5U-NKW4Sa7b"
      },
      "id": "g5U-NKW4Sa7b",
      "execution_count": null,
      "outputs": []
    },
    {
      "cell_type": "code",
      "source": [
        "import requests\n",
        "\n",
        "resp = requests.post(\n",
        "    model_endpoints[0], json=model_query_datapoint, headers=tb.common.api.headers\n",
        ")\n",
        "resp.json()"
      ],
      "execution_count": 83,
      "id": "78",
      "metadata": {
        "colab": {
          "base_uri": "https://localhost:8080/"
        },
        "id": "78",
        "outputId": "f24c18a5-1b02-4ad5-88c9-2b977b189ca1"
      },
      "outputs": [
        {
          "output_type": "execute_result",
          "data": {
            "text/plain": [
              "{'class_probabilities': [0.8565371036529541, 0.1434628963470459],\n",
              " 'key': '74282',\n",
              " 'predicted_class': 0,\n",
              " 'score': 0.1434628963470459}"
            ]
          },
          "metadata": {},
          "execution_count": 83
        }
      ]
    },
    {
      "cell_type": "markdown",
      "source": [
        "### Supervised Model Evaluation\n",
        "Let's now evaluate our supervised ML model. The process is exactly the same as for unsupervised model evaluation."
      ],
      "id": "79",
      "metadata": {
        "id": "79"
      }
    },
    {
      "cell_type": "code",
      "source": [
        "deployed_model_htc.add_metric(\"WindowedAUC\")"
      ],
      "execution_count": 84,
      "id": "80",
      "metadata": {
        "id": "80"
      },
      "outputs": []
    },
    {
      "cell_type": "code",
      "source": [
        "deployed_model_htc.add_metric(\"WindowedAccuracy\")"
      ],
      "metadata": {
        "id": "XERYzaNgTW3_"
      },
      "id": "XERYzaNgTW3_",
      "execution_count": 90,
      "outputs": []
    },
    {
      "cell_type": "markdown",
      "source": [
        "We can use the same **get_evaluation** function to fetch the metrics for this model as well. Remember, this function retrieves the metric values present at that moment of time. So, if the number of records recieved seem low, just re-run this function.  "
      ],
      "id": "81",
      "metadata": {
        "id": "81"
      }
    },
    {
      "cell_type": "code",
      "source": [
        "model_acc_scores = deployed_model_htc.get_evaluation(\"WindowedAccuracy\")"
      ],
      "metadata": {
        "id": "KE3eVSMTTbEs"
      },
      "id": "KE3eVSMTTbEs",
      "execution_count": 92,
      "outputs": []
    },
    {
      "cell_type": "code",
      "source": [
        "model_auc_scores = deployed_model_htc.get_evaluation(\"WindowedAUC\")\n",
        "model_auc_scores[-1]"
      ],
      "execution_count": 86,
      "id": "82",
      "metadata": {
        "colab": {
          "base_uri": "https://localhost:8080/"
        },
        "id": "82",
        "outputId": "f1910067-c94e-4cfa-f853-745bf384eb1f"
      },
      "outputs": [
        {
          "output_type": "execute_result",
          "data": {
            "text/plain": [
              "index: 75\n",
              "metric: 0.783456504"
            ]
          },
          "metadata": {},
          "execution_count": 86
        }
      ]
    },
    {
      "cell_type": "code",
      "source": [
        "import matplotlib.pyplot as plt"
      ],
      "metadata": {
        "id": "CsRhqUImTOXH"
      },
      "id": "CsRhqUImTOXH",
      "execution_count": 88,
      "outputs": []
    },
    {
      "cell_type": "code",
      "source": [
        "plt.plot([model_acc_score.metric for model_acc_score in model_acc_scores])"
      ],
      "metadata": {
        "colab": {
          "base_uri": "https://localhost:8080/",
          "height": 447
        },
        "id": "w8WxT-GuTk5v",
        "outputId": "74122e5d-250e-43e6-acba-5199111c98ef"
      },
      "id": "w8WxT-GuTk5v",
      "execution_count": 95,
      "outputs": [
        {
          "output_type": "execute_result",
          "data": {
            "text/plain": [
              "[<matplotlib.lines.Line2D at 0x7bc724601a90>]"
            ]
          },
          "metadata": {},
          "execution_count": 95
        },
        {
          "output_type": "display_data",
          "data": {
            "text/plain": [
              "<Figure size 640x480 with 1 Axes>"
            ],
            "image/png": "[encoded data removed]"
          },
          "metadata": {}
        }
      ]
    },
    {
      "cell_type": "code",
      "source": [
        "plt.plot([model_auc_score.metric for model_auc_score in model_auc_scores])"
      ],
      "execution_count": 89,
      "id": "83",
      "metadata": {
        "colab": {
          "base_uri": "https://localhost:8080/",
          "height": 447
        },
        "id": "83",
        "outputId": "5a475f75-c8ea-4a92-edbd-1e84e7293a6c"
      },
      "outputs": [
        {
          "output_type": "execute_result",
          "data": {
            "text/plain": [
              "[<matplotlib.lines.Line2D at 0x7bc71b095410>]"
            ]
          },
          "metadata": {},
          "execution_count": 89
        },
        {
          "output_type": "display_data",
          "data": {
            "text/plain": [
              "<Figure size 640x480 with 1 Axes>"
            ],
            "image/png": "[encoded data removed]"
          },
          "metadata": {}
        }
      ]
    },
    {
      "cell_type": "markdown",
      "source": [
        "## Model Comparison\n",
        "\n",
        "Now that we have 2 models deployed, and we've registered metrics for both of them, we can compare them on real-time data. On each invocation, the following function will fetch the latest evaluations of the models and plot them."
      ],
      "id": "84",
      "metadata": {
        "id": "84"
      }
    },
    {
      "cell_type": "code",
      "source": [
        "boosted_model = tb.AdaBoostClassifier(n_classes=2, base_model=htc_model)"
      ],
      "metadata": {
        "id": "R0QsAc6XUIFm"
      },
      "id": "R0QsAc6XUIFm",
      "execution_count": 97,
      "outputs": []
    },
    {
      "cell_type": "code",
      "source": [
        "deployed_model_boosted = boosted_model.deploy(\"boosted_model\", input=features, labels=label)"
      ],
      "metadata": {
        "id": "ui4ZQyLaUIDd"
      },
      "id": "ui4ZQyLaUIDd",
      "execution_count": 99,
      "outputs": []
    },
    {
      "cell_type": "code",
      "source": [
        "outputs = deployed_model_boosted.get_outputs()"
      ],
      "metadata": {
        "colab": {
          "base_uri": "https://localhost:8080/"
        },
        "id": "4mgfO6M5UIBk",
        "outputId": "80abb500-5584-4944-c0ac-0d638d3aa3a0"
      },
      "id": "4mgfO6M5UIBk",
      "execution_count": 101,
      "outputs": [
        {
          "output_type": "stream",
          "name": "stderr",
          "text": [
            "INFO:turboml.common.dataloader:Yielded 5000 records (1 batches) in 1 seconds\n",
            "INFO:turboml.common.dataloader:Yielded 74283 records (15 batches) in 2 seconds\n"
          ]
        }
      ]
    },
    {
      "cell_type": "code",
      "source": [
        "lbc_model = tb.LeveragingBaggingClassifier(n_classes=2, base_model=htc_model)"
      ],
      "metadata": {
        "id": "9C22CTsOUH-b"
      },
      "id": "9C22CTsOUH-b",
      "execution_count": 113,
      "outputs": []
    },
    {
      "cell_type": "code",
      "source": [
        "deployed_model = lbc_model.deploy(\"lbc_classifier\", input=features, labels=label)"
      ],
      "metadata": {
        "id": "FvOuiz8fUH7T"
      },
      "id": "FvOuiz8fUH7T",
      "execution_count": 114,
      "outputs": []
    },
    {
      "cell_type": "code",
      "source": [
        "outputs = deployed_model.get_outputs()"
      ],
      "metadata": {
        "colab": {
          "base_uri": "https://localhost:8080/"
        },
        "id": "XUuUxWxBUH30",
        "outputId": "c755dbb7-c8db-492e-b34b-3dbc5ffc50a0"
      },
      "id": "XUuUxWxBUH30",
      "execution_count": 115,
      "outputs": [
        {
          "output_type": "stream",
          "name": "stderr",
          "text": [
            "INFO:turboml.common.dataloader:Yielded 5000 records (1 batches) in 1 seconds\n",
            "INFO:turboml.common.dataloader:Yielded 74283 records (15 batches) in 3 seconds\n"
          ]
        }
      ]
    },
    {
      "cell_type": "code",
      "source": [
        "len(outputs)"
      ],
      "metadata": {
        "colab": {
          "base_uri": "https://localhost:8080/"
        },
        "id": "mZdUIM-tUH0p",
        "outputId": "700ab46a-4234-4358-894e-77ac66f78ea4"
      },
      "id": "mZdUIM-tUH0p",
      "execution_count": 116,
      "outputs": [
        {
          "output_type": "execute_result",
          "data": {
            "text/plain": [
              "74283"
            ]
          },
          "metadata": {},
          "execution_count": 116
        }
      ]
    },
    {
      "cell_type": "code",
      "source": [
        "tb.compare_model_metrics(\n",
        "    models=[deployed_model_htc, deployed_model_boosted], metric=\"WindowedAccuracy\"\n",
        ")"
      ],
      "metadata": {
        "id": "UUwQvvbJUHsM"
      },
      "id": "UUwQvvbJUHsM",
      "execution_count": null,
      "outputs": []
    },
    {
      "cell_type": "code",
      "source": [],
      "metadata": {
        "id": "2-dhXhV9UHnA"
      },
      "id": "2-dhXhV9UHnA",
      "execution_count": null,
      "outputs": []
    },
    {
      "cell_type": "code",
      "source": [],
      "metadata": {
        "id": "78AKa50vUHi9"
      },
      "id": "78AKa50vUHi9",
      "execution_count": null,
      "outputs": []
    },
    {
      "cell_type": "code",
      "source": [
        "tb.compare_model_metrics(\n",
        "    models=[lbc_model, deployed_model_boosted,deployed_model], metric=\"WindowedAccuracy\"\n",
        ")"
      ],
      "execution_count": 117,
      "id": "85",
      "metadata": {
        "colab": {
          "base_uri": "https://localhost:8080/",
          "height": 542
        },
        "id": "85",
        "outputId": "f9cb1f7f-a362-454d-dc39-2a9b456ceda0"
      },
      "outputs": [
        {
          "output_type": "display_data",
          "data": {
            "text/html": [
              "<html>\n",
              "<head><meta charset=\"utf-8\" /></head>\n",
              "<body>\n",
              "    <div>            <script src=\"https://cdnjs.cloudflare.com/ajax/libs/mathjax/2.7.5/MathJax.js?config=TeX-AMS-MML_SVG\"></script><script type=\"text/javascript\">if (window.MathJax && window.MathJax.Hub && window.MathJax.Hub.Config) {window.MathJax.Hub.Config({SVG: {font: \"STIX-Web\"}});}</script>                <script type=\"text/javascript\">window.PlotlyConfig = {MathJaxConfig: 'local'};</script>\n",
              "        <script charset=\"utf-8\" src=\"https://cdn.plot.ly/plotly-2.35.2.min.js\"></script>                <div id=\"c7eafb53-f9af-4320-8224-43797df0d0da\" class=\"plotly-graph-div\" style=\"height:525px; width:100%;\"></div>            <script type=\"text/javascript\">                                    window.PLOTLYENV=window.PLOTLYENV || {};                                    if (document.getElementById(\"c7eafb53-f9af-4320-8224-43797df0d0da\")) {                    Plotly.newPlot(                        \"c7eafb53-f9af-4320-8224-43797df0d0da\",                        [{\"mode\":\"lines\",\"name\":\"demo_classifier\",\"x\":[1,2,3,4,5,6,7,8,9,10,11,12,13,14,15,16,17,18,19,20,21,22,23,24,25,26,27,28,29,30,31,32,33,34,35,36,37,38,39,40,41,42,43,44,45,46,47,48,49,50,51,52,53,54,55,56,57,58,59,60,61,62,63,64,65,66,67,68,69,70,71,72,73,74,75],\"y\":[0.5799999833106995,0.6159999966621399,0.6570000052452087,0.722000002861023,0.7260000109672546,0.7039999961853027,0.7319999933242798,0.7179999947547913,0.75,0.7039999961853027,0.7049999833106995,0.722000002861023,0.7300000190734863,0.7300000190734863,0.722000002861023,0.7170000076293945,0.75,0.7250000238418579,0.7089999914169312,0.7289999723434448,0.703000009059906,0.6919999718666077,0.7239999771118164,0.722000002861023,0.734000027179718,0.699999988079071,0.7070000171661377,0.7009999752044678,0.7260000109672546,0.7200000286102295,0.7120000123977661,0.7260000109672546,0.703000009059906,0.7229999899864197,0.7110000252723694,0.7239999771118164,0.7250000238418579,0.7160000205039978,0.6880000233650208,0.7070000171661377,0.7390000224113464,0.7020000219345093,0.703000009059906,0.7070000171661377,0.7059999704360962,0.7260000109672546,0.7200000286102295,0.6850000023841858,0.7179999947547913,0.699999988079071,0.7239999771118164,0.7049999833106995,0.6949999928474426,0.7070000171661377,0.7329999804496765,0.7319999933242798,0.7409999966621399,0.7319999933242798,0.7049999833106995,0.7149999737739563,0.6859999895095825,0.7269999980926514,0.7369999885559082,0.7089999914169312,0.7300000190734863,0.7139999866485596,0.7170000076293945,0.7369999885559082,0.703000009059906,0.7139999866485596,0.7239999771118164,0.7210000157356262,0.7200000286102295,0.7210000157356262,0.7067137956619263],\"type\":\"scatter\"},{\"mode\":\"lines\",\"name\":\"boosted_model\",\"x\":[1,2,3,4,5,6,7,8,9,10,11,12,13,14,15,16,17,18,19,20,21,22,23,24,25,26,27,28,29,30,31,32,33,34,35,36,37,38,39,40,41,42,43,44,45,46,47,48,49,50,51,52,53,54,55,56,57,58,59,60,61,62,63,64,65,66,67,68,69,70,71,72,73,74,75],\"y\":[0.5770000219345093,0.625,0.6460000276565552,0.7210000157356262,0.6949999928474426,0.6890000104904175,0.6470000147819519,0.6330000162124634,0.6330000162124634,0.5989999771118164,0.6650000214576721,0.6990000009536743,0.6819999814033508,0.6790000200271606,0.6539999842643738,0.6759999990463257,0.6859999895095825,0.6779999732971191,0.7229999899864197,0.7250000238418579,0.7020000219345093,0.7099999785423279,0.6949999928474426,0.6850000023841858,0.6840000152587891,0.6690000295639038,0.6639999747276306,0.6499999761581421,0.6800000071525574,0.6480000019073486,0.6549999713897705,0.6389999985694885,0.6539999842643738,0.6499999761581421,0.6669999957084656,0.652999997138977,0.6740000247955322,0.6869999766349792,0.6600000262260437,0.675000011920929,0.6700000166893005,0.675000011920929,0.6669999957084656,0.6639999747276306,0.6589999794960022,0.6629999876022339,0.6890000104904175,0.6869999766349792,0.6769999861717224,0.675000011920929,0.6710000038146973,0.675000011920929,0.6990000009536743,0.6729999780654907,0.6899999976158142,0.703000009059906,0.6800000071525574,0.7260000109672546,0.6930000185966492,0.6869999766349792,0.6850000023841858,0.6949999928474426,0.6940000057220459,0.6890000104904175,0.6890000104904175,0.6930000185966492,0.7139999866485596,0.6980000138282776,0.675000011920929,0.6890000104904175,0.703000009059906,0.6859999895095825,0.6890000104904175,0.6990000009536743,0.6749116778373718],\"type\":\"scatter\"},{\"mode\":\"lines\",\"name\":\"lbc_classifier\",\"x\":[1,2,3,4,5,6,7,8,9,10,11,12,13,14,15,16,17,18,19,20,21,22,23,24,25,26,27,28,29,30,31,32,33,34,35,36,37,38,39,40,41,42,43,44,45,46,47,48,49,50,51,52,53,54,55,56,57,58,59,60,61,62,63,64,65,66,67,68,69,70,71,72,73,74,75],\"y\":[0.6370000243186951,0.6480000019073486,0.6639999747276306,0.703000009059906,0.6970000267028809,0.7039999961853027,0.7319999933242798,0.7300000190734863,0.7279999852180481,0.7269999980926514,0.7149999737739563,0.7329999804496765,0.7329999804496765,0.7110000252723694,0.7149999737739563,0.7149999737739563,0.7210000157356262,0.7080000042915344,0.7369999885559082,0.7300000190734863,0.7369999885559082,0.6919999718666077,0.7129999995231628,0.7099999785423279,0.7200000286102295,0.7089999914169312,0.7160000205039978,0.7239999771118164,0.7269999980926514,0.699999988079071,0.7379999756813049,0.7160000205039978,0.7070000171661377,0.7200000286102295,0.6990000009536743,0.7289999723434448,0.7279999852180481,0.722000002861023,0.699999988079071,0.7059999704360962,0.7250000238418579,0.7080000042915344,0.734000027179718,0.6850000023841858,0.7250000238418579,0.7260000109672546,0.703000009059906,0.7059999704360962,0.7049999833106995,0.7129999995231628,0.6949999928474426,0.718999981880188,0.7120000123977661,0.6819999814033508,0.7250000238418579,0.7260000109672546,0.7160000205039978,0.7279999852180481,0.6990000009536743,0.7059999704360962,0.699999988079071,0.7419999837875366,0.7289999723434448,0.7419999837875366,0.7059999704360962,0.7080000042915344,0.7369999885559082,0.7350000143051147,0.7250000238418579,0.7139999866485596,0.7390000224113464,0.7129999995231628,0.734000027179718,0.7049999833106995,0.71378093957901],\"type\":\"scatter\"}],                        {\"title\":{\"text\":\"WindowedAccuracy\"},\"xaxis\":{\"title\":{\"text\":\"Samples\"}},\"yaxis\":{\"title\":{\"text\":\"Metric\"}},\"template\":{\"data\":{\"histogram2dcontour\":[{\"type\":\"histogram2dcontour\",\"colorbar\":{\"outlinewidth\":0,\"ticks\":\"\"},\"colorscale\":[[0.0,\"#0d0887\"],[0.1111111111111111,\"#46039f\"],[0.2222222222222222,\"#7201a8\"],[0.3333333333333333,\"#9c179e\"],[0.4444444444444444,\"#bd3786\"],[0.5555555555555556,\"#d8576b\"],[0.6666666666666666,\"#ed7953\"],[0.7777777777777778,\"#fb9f3a\"],[0.8888888888888888,\"#fdca26\"],[1.0,\"#f0f921\"]]}],\"choropleth\":[{\"type\":\"choropleth\",\"colorbar\":{\"outlinewidth\":0,\"ticks\":\"\"}}],\"histogram2d\":[{\"type\":\"histogram2d\",\"colorbar\":{\"outlinewidth\":0,\"ticks\":\"\"},\"colorscale\":[[0.0,\"#0d0887\"],[0.1111111111111111,\"#46039f\"],[0.2222222222222222,\"#7201a8\"],[0.3333333333333333,\"#9c179e\"],[0.4444444444444444,\"#bd3786\"],[0.5555555555555556,\"#d8576b\"],[0.6666666666666666,\"#ed7953\"],[0.7777777777777778,\"#fb9f3a\"],[0.8888888888888888,\"#fdca26\"],[1.0,\"#f0f921\"]]}],\"heatmap\":[{\"type\":\"heatmap\",\"colorbar\":{\"outlinewidth\":0,\"ticks\":\"\"},\"colorscale\":[[0.0,\"#0d0887\"],[0.1111111111111111,\"#46039f\"],[0.2222222222222222,\"#7201a8\"],[0.3333333333333333,\"#9c179e\"],[0.4444444444444444,\"#bd3786\"],[0.5555555555555556,\"#d8576b\"],[0.6666666666666666,\"#ed7953\"],[0.7777777777777778,\"#fb9f3a\"],[0.8888888888888888,\"#fdca26\"],[1.0,\"#f0f921\"]]}],\"heatmapgl\":[{\"type\":\"heatmapgl\",\"colorbar\":{\"outlinewidth\":0,\"ticks\":\"\"},\"colorscale\":[[0.0,\"#0d0887\"],[0.1111111111111111,\"#46039f\"],[0.2222222222222222,\"#7201a8\"],[0.3333333333333333,\"#9c179e\"],[0.4444444444444444,\"#bd3786\"],[0.5555555555555556,\"#d8576b\"],[0.6666666666666666,\"#ed7953\"],[0.7777777777777778,\"#fb9f3a\"],[0.8888888888888888,\"#fdca26\"],[1.0,\"#f0f921\"]]}],\"contourcarpet\":[{\"type\":\"contourcarpet\",\"colorbar\":{\"outlinewidth\":0,\"ticks\":\"\"}}],\"contour\":[{\"type\":\"contour\",\"colorbar\":{\"outlinewidth\":0,\"ticks\":\"\"},\"colorscale\":[[0.0,\"#0d0887\"],[0.1111111111111111,\"#46039f\"],[0.2222222222222222,\"#7201a8\"],[0.3333333333333333,\"#9c179e\"],[0.4444444444444444,\"#bd3786\"],[0.5555555555555556,\"#d8576b\"],[0.6666666666666666,\"#ed7953\"],[0.7777777777777778,\"#fb9f3a\"],[0.8888888888888888,\"#fdca26\"],[1.0,\"#f0f921\"]]}],\"surface\":[{\"type\":\"surface\",\"colorbar\":{\"outlinewidth\":0,\"ticks\":\"\"},\"colorscale\":[[0.0,\"#0d0887\"],[0.1111111111111111,\"#46039f\"],[0.2222222222222222,\"#7201a8\"],[0.3333333333333333,\"#9c179e\"],[0.4444444444444444,\"#bd3786\"],[0.5555555555555556,\"#d8576b\"],[0.6666666666666666,\"#ed7953\"],[0.7777777777777778,\"#fb9f3a\"],[0.8888888888888888,\"#fdca26\"],[1.0,\"#f0f921\"]]}],\"mesh3d\":[{\"type\":\"mesh3d\",\"colorbar\":{\"outlinewidth\":0,\"ticks\":\"\"}}],\"scatter\":[{\"fillpattern\":{\"fillmode\":\"overlay\",\"size\":10,\"solidity\":0.2},\"type\":\"scatter\"}],\"parcoords\":[{\"type\":\"parcoords\",\"line\":{\"colorbar\":{\"outlinewidth\":0,\"ticks\":\"\"}}}],\"scatterpolargl\":[{\"type\":\"scatterpolargl\",\"marker\":{\"colorbar\":{\"outlinewidth\":0,\"ticks\":\"\"}}}],\"bar\":[{\"error_x\":{\"color\":\"#2a3f5f\"},\"error_y\":{\"color\":\"#2a3f5f\"},\"marker\":{\"line\":{\"color\":\"#E5ECF6\",\"width\":0.5},\"pattern\":{\"fillmode\":\"overlay\",\"size\":10,\"solidity\":0.2}},\"type\":\"bar\"}],\"scattergeo\":[{\"type\":\"scattergeo\",\"marker\":{\"colorbar\":{\"outlinewidth\":0,\"ticks\":\"\"}}}],\"scatterpolar\":[{\"type\":\"scatterpolar\",\"marker\":{\"colorbar\":{\"outlinewidth\":0,\"ticks\":\"\"}}}],\"histogram\":[{\"marker\":{\"pattern\":{\"fillmode\":\"overlay\",\"size\":10,\"solidity\":0.2}},\"type\":\"histogram\"}],\"scattergl\":[{\"type\":\"scattergl\",\"marker\":{\"colorbar\":{\"outlinewidth\":0,\"ticks\":\"\"}}}],\"scatter3d\":[{\"type\":\"scatter3d\",\"line\":{\"colorbar\":{\"outlinewidth\":0,\"ticks\":\"\"}},\"marker\":{\"colorbar\":{\"outlinewidth\":0,\"ticks\":\"\"}}}],\"scattermapbox\":[{\"type\":\"scattermapbox\",\"marker\":{\"colorbar\":{\"outlinewidth\":0,\"ticks\":\"\"}}}],\"scatterternary\":[{\"type\":\"scatterternary\",\"marker\":{\"colorbar\":{\"outlinewidth\":0,\"ticks\":\"\"}}}],\"scattercarpet\":[{\"type\":\"scattercarpet\",\"marker\":{\"colorbar\":{\"outlinewidth\":0,\"ticks\":\"\"}}}],\"carpet\":[{\"aaxis\":{\"endlinecolor\":\"#2a3f5f\",\"gridcolor\":\"white\",\"linecolor\":\"white\",\"minorgridcolor\":\"white\",\"startlinecolor\":\"#2a3f5f\"},\"baxis\":{\"endlinecolor\":\"#2a3f5f\",\"gridcolor\":\"white\",\"linecolor\":\"white\",\"minorgridcolor\":\"white\",\"startlinecolor\":\"#2a3f5f\"},\"type\":\"carpet\"}],\"table\":[{\"cells\":{\"fill\":{\"color\":\"#EBF0F8\"},\"line\":{\"color\":\"white\"}},\"header\":{\"fill\":{\"color\":\"#C8D4E3\"},\"line\":{\"color\":\"white\"}},\"type\":\"table\"}],\"barpolar\":[{\"marker\":{\"line\":{\"color\":\"#E5ECF6\",\"width\":0.5},\"pattern\":{\"fillmode\":\"overlay\",\"size\":10,\"solidity\":0.2}},\"type\":\"barpolar\"}],\"pie\":[{\"automargin\":true,\"type\":\"pie\"}]},\"layout\":{\"autotypenumbers\":\"strict\",\"colorway\":[\"#636efa\",\"#EF553B\",\"#00cc96\",\"#ab63fa\",\"#FFA15A\",\"#19d3f3\",\"#FF6692\",\"#B6E880\",\"#FF97FF\",\"#FECB52\"],\"font\":{\"color\":\"#2a3f5f\"},\"hovermode\":\"closest\",\"hoverlabel\":{\"align\":\"left\"},\"paper_bgcolor\":\"white\",\"plot_bgcolor\":\"#E5ECF6\",\"polar\":{\"bgcolor\":\"#E5ECF6\",\"angularaxis\":{\"gridcolor\":\"white\",\"linecolor\":\"white\",\"ticks\":\"\"},\"radialaxis\":{\"gridcolor\":\"white\",\"linecolor\":\"white\",\"ticks\":\"\"}},\"ternary\":{\"bgcolor\":\"#E5ECF6\",\"aaxis\":{\"gridcolor\":\"white\",\"linecolor\":\"white\",\"ticks\":\"\"},\"baxis\":{\"gridcolor\":\"white\",\"linecolor\":\"white\",\"ticks\":\"\"},\"caxis\":{\"gridcolor\":\"white\",\"linecolor\":\"white\",\"ticks\":\"\"}},\"coloraxis\":{\"colorbar\":{\"outlinewidth\":0,\"ticks\":\"\"}},\"colorscale\":{\"sequential\":[[0.0,\"#0d0887\"],[0.1111111111111111,\"#46039f\"],[0.2222222222222222,\"#7201a8\"],[0.3333333333333333,\"#9c179e\"],[0.4444444444444444,\"#bd3786\"],[0.5555555555555556,\"#d8576b\"],[0.6666666666666666,\"#ed7953\"],[0.7777777777777778,\"#fb9f3a\"],[0.8888888888888888,\"#fdca26\"],[1.0,\"#f0f921\"]],\"sequentialminus\":[[0.0,\"#0d0887\"],[0.1111111111111111,\"#46039f\"],[0.2222222222222222,\"#7201a8\"],[0.3333333333333333,\"#9c179e\"],[0.4444444444444444,\"#bd3786\"],[0.5555555555555556,\"#d8576b\"],[0.6666666666666666,\"#ed7953\"],[0.7777777777777778,\"#fb9f3a\"],[0.8888888888888888,\"#fdca26\"],[1.0,\"#f0f921\"]],\"diverging\":[[0,\"#8e0152\"],[0.1,\"#c51b7d\"],[0.2,\"#de77ae\"],[0.3,\"#f1b6da\"],[0.4,\"#fde0ef\"],[0.5,\"#f7f7f7\"],[0.6,\"#e6f5d0\"],[0.7,\"#b8e186\"],[0.8,\"#7fbc41\"],[0.9,\"#4d9221\"],[1,\"#276419\"]]},\"xaxis\":{\"gridcolor\":\"white\",\"linecolor\":\"white\",\"ticks\":\"\",\"title\":{\"standoff\":15},\"zerolinecolor\":\"white\",\"automargin\":true,\"zerolinewidth\":2},\"yaxis\":{\"gridcolor\":\"white\",\"linecolor\":\"white\",\"ticks\":\"\",\"title\":{\"standoff\":15},\"zerolinecolor\":\"white\",\"automargin\":true,\"zerolinewidth\":2},\"scene\":{\"xaxis\":{\"backgroundcolor\":\"#E5ECF6\",\"gridcolor\":\"white\",\"linecolor\":\"white\",\"showbackground\":true,\"ticks\":\"\",\"zerolinecolor\":\"white\",\"gridwidth\":2},\"yaxis\":{\"backgroundcolor\":\"#E5ECF6\",\"gridcolor\":\"white\",\"linecolor\":\"white\",\"showbackground\":true,\"ticks\":\"\",\"zerolinecolor\":\"white\",\"gridwidth\":2},\"zaxis\":{\"backgroundcolor\":\"#E5ECF6\",\"gridcolor\":\"white\",\"linecolor\":\"white\",\"showbackground\":true,\"ticks\":\"\",\"zerolinecolor\":\"white\",\"gridwidth\":2}},\"shapedefaults\":{\"line\":{\"color\":\"#2a3f5f\"}},\"annotationdefaults\":{\"arrowcolor\":\"#2a3f5f\",\"arrowhead\":0,\"arrowwidth\":1},\"geo\":{\"bgcolor\":\"white\",\"landcolor\":\"#E5ECF6\",\"subunitcolor\":\"white\",\"showland\":true,\"showlakes\":true,\"lakecolor\":\"white\"},\"title\":{\"x\":0.05},\"mapbox\":{\"style\":\"light\"}}}},                        {\"responsive\": true}                    ).then(function(){\n",
              "                            \n",
              "var gd = document.getElementById('c7eafb53-f9af-4320-8224-43797df0d0da');\n",
              "var x = new MutationObserver(function (mutations, observer) {{\n",
              "        var display = window.getComputedStyle(gd).display;\n",
              "        if (!display || display === 'none') {{\n",
              "            console.log([gd, 'removed!']);\n",
              "            Plotly.purge(gd);\n",
              "            observer.disconnect();\n",
              "        }}\n",
              "}});\n",
              "\n",
              "// Listen for the removal of the full notebook cells\n",
              "var notebookContainer = gd.closest('#notebook-container');\n",
              "if (notebookContainer) {{\n",
              "    x.observe(notebookContainer, {childList: true});\n",
              "}}\n",
              "\n",
              "// Listen for the clearing of the current output cell\n",
              "var outputEl = gd.closest('.output');\n",
              "if (outputEl) {{\n",
              "    x.observe(outputEl, {childList: true});\n",
              "}}\n",
              "\n",
              "                        })                };                            </script>        </div>\n",
              "</body>\n",
              "</html>"
            ]
          },
          "metadata": {}
        }
      ]
    },
    {
      "cell_type": "markdown",
      "source": [
        "## Model Deletion\n",
        "\n",
        "We can delete the models like this, by default the generated output is deleted. If you want to retain the output generated by model, use `delete_output_topic=False`."
      ],
      "id": "86",
      "metadata": {
        "id": "86"
      }
    },
    {
      "cell_type": "code",
      "source": [
        "bandit_model = tb.BanditModelSelection(base_models=[lbc_model, boosted_model, htc_model])\n",
        "deployed_model = bandit_model.deploy(\n",
        "    \"demo_classifier_bandit\", input=features, labels=label\n",
        ")"
      ],
      "metadata": {
        "colab": {
          "base_uri": "https://localhost:8080/"
        },
        "id": "5AQjf91KnOWz",
        "outputId": "6c1dd22f-760a-4bb8-a93a-74189c371490"
      },
      "id": "5AQjf91KnOWz",
      "execution_count": 120,
      "outputs": [
        {
          "output_type": "stream",
          "name": "stderr",
          "text": [
            "/usr/local/lib/python3.11/site-packages/pydantic/main.py:426: UserWarning:\n",
            "\n",
            "Pydantic serializer warnings:\n",
            "  Expected `enum` but got `str` with value `'WindowedMAE'` - serialized value may not be as expected\n",
            "\n"
          ]
        }
      ]
    },
    {
      "cell_type": "code",
      "source": [],
      "metadata": {
        "id": "1Zh8C3KRnOSF"
      },
      "id": "1Zh8C3KRnOSF",
      "execution_count": null,
      "outputs": []
    },
    {
      "cell_type": "code",
      "source": [],
      "metadata": {
        "id": "YovcmdvenOOb"
      },
      "id": "YovcmdvenOOb",
      "execution_count": null,
      "outputs": []
    },
    {
      "cell_type": "code",
      "source": [],
      "metadata": {
        "id": "NEDPYxc_nOLk"
      },
      "id": "NEDPYxc_nOLk",
      "execution_count": null,
      "outputs": []
    },
    {
      "cell_type": "code",
      "source": [],
      "metadata": {
        "id": "zgNoGMmBnOIJ"
      },
      "id": "zgNoGMmBnOIJ",
      "execution_count": null,
      "outputs": []
    },
    {
      "cell_type": "code",
      "source": [],
      "metadata": {
        "id": "XjtVgJiCnOCg"
      },
      "id": "XjtVgJiCnOCg",
      "execution_count": null,
      "outputs": []
    },
    {
      "cell_type": "code",
      "source": [
        "deployed_model_rcf.delete()"
      ],
      "execution_count": null,
      "id": "87",
      "metadata": {
        "id": "87"
      },
      "outputs": []
    }
  ],
  "metadata": {
    "kernelspec": {
      "display_name": "Python 3 (ipykernel)",
      "language": "python",
      "name": "python3"
    },
    "language_info": {
      "codemirror_mode": {
        "name": "ipython",
        "version": 3
      },
      "file_extension": ".py",
      "mimetype": "text/x-python",
      "name": "python",
      "nbconvert_exporter": "python",
      "pygments_lexer": "ipython3",
      "version": "3.11.9"
    },
    "colab": {
      "provenance": []
    }
  },
  "nbformat": 4,
  "nbformat_minor": 5
}